{
 "cells": [
  {
   "cell_type": "markdown",
   "metadata": {},
   "source": [
    "# Model Trainig for Win Prediction Analytics\n"
   ]
  },
  {
   "cell_type": "code",
   "execution_count": 10,
   "metadata": {},
   "outputs": [],
   "source": [
    "#Loading important libraries\n",
    "\n",
    "import pandas as pd\n",
    "import numpy as np\n",
    "import matplotlib.pyplot as plt\n",
    "%matplotlib inline\n",
    "import seaborn as sns\n",
    "import datetime\n",
    "import warnings\n",
    "warnings.filterwarnings(\"ignore\")\n",
    "import os as os\n",
    "\n",
    "from sklearn import preprocessing\n",
    "plt.rc(\"font\", size=14)\n",
    "from sklearn.linear_model import LogisticRegression\n",
    "from sklearn.model_selection import train_test_split\n",
    "from sklearn.metrics import precision_recall_fscore_support\n",
    "import seaborn as sns\n",
    "sns.set(style=\"white\")\n",
    "sns.set(style=\"whitegrid\", color_codes=True)"
   ]
  },
  {
   "cell_type": "code",
   "execution_count": 11,
   "metadata": {},
   "outputs": [],
   "source": [
    "#loading the Workspace\n",
    "#os.chdir(\"C:\\\\Data\\\\DSP\\\\Capstone\\\\WinPrediction\\\\Win Prediction\")"
   ]
  },
  {
   "cell_type": "code",
   "execution_count": 70,
   "metadata": {},
   "outputs": [],
   "source": [
    "#Importing the dataset\n",
    "df = pd.read_excel(\"Win_Prediction_Data.xlsx\")"
   ]
  },
  {
   "cell_type": "code",
   "execution_count": 71,
   "metadata": {},
   "outputs": [
    {
     "data": {
      "text/html": [
       "<div>\n",
       "<style scoped>\n",
       "    .dataframe tbody tr th:only-of-type {\n",
       "        vertical-align: middle;\n",
       "    }\n",
       "\n",
       "    .dataframe tbody tr th {\n",
       "        vertical-align: top;\n",
       "    }\n",
       "\n",
       "    .dataframe thead th {\n",
       "        text-align: right;\n",
       "    }\n",
       "</style>\n",
       "<table border=\"1\" class=\"dataframe\">\n",
       "  <thead>\n",
       "    <tr style=\"text-align: right;\">\n",
       "      <th></th>\n",
       "      <th>Client Category</th>\n",
       "      <th>Solution Type</th>\n",
       "      <th>Deal Date</th>\n",
       "      <th>Sector</th>\n",
       "      <th>Location</th>\n",
       "      <th>VP Name</th>\n",
       "      <th>Manager Name</th>\n",
       "      <th>Deal Cost</th>\n",
       "      <th>Deal Status Code</th>\n",
       "    </tr>\n",
       "  </thead>\n",
       "  <tbody>\n",
       "    <tr>\n",
       "      <th>0</th>\n",
       "      <td>Telecom</td>\n",
       "      <td>Solution 7</td>\n",
       "      <td>2012-03-27</td>\n",
       "      <td>Sector 24</td>\n",
       "      <td>L5</td>\n",
       "      <td>Ekta Zutshi</td>\n",
       "      <td>Gopa Trilochana</td>\n",
       "      <td>150000.00</td>\n",
       "      <td>Won</td>\n",
       "    </tr>\n",
       "    <tr>\n",
       "      <th>1</th>\n",
       "      <td>Telecom</td>\n",
       "      <td>Solution 7</td>\n",
       "      <td>2012-09-25</td>\n",
       "      <td>Sector 24</td>\n",
       "      <td>L5</td>\n",
       "      <td>Ekta Zutshi</td>\n",
       "      <td>Gopa Trilochana</td>\n",
       "      <td>744705.88</td>\n",
       "      <td>Won</td>\n",
       "    </tr>\n",
       "    <tr>\n",
       "      <th>2</th>\n",
       "      <td>Internal</td>\n",
       "      <td>Solution 59</td>\n",
       "      <td>2011-08-01</td>\n",
       "      <td>Sector 20</td>\n",
       "      <td>Others</td>\n",
       "      <td>Ekta Zutshi</td>\n",
       "      <td>Russell Dahlen</td>\n",
       "      <td>60000.00</td>\n",
       "      <td>Lost</td>\n",
       "    </tr>\n",
       "    <tr>\n",
       "      <th>3</th>\n",
       "      <td>Internal</td>\n",
       "      <td>Solution 59</td>\n",
       "      <td>2011-04-28</td>\n",
       "      <td>Sector 20</td>\n",
       "      <td>Others</td>\n",
       "      <td>Ekta Zutshi</td>\n",
       "      <td>Russell Dahlen</td>\n",
       "      <td>60000.00</td>\n",
       "      <td>Lost</td>\n",
       "    </tr>\n",
       "    <tr>\n",
       "      <th>4</th>\n",
       "      <td>Internal</td>\n",
       "      <td>Solution 32</td>\n",
       "      <td>2011-06-03</td>\n",
       "      <td>Sector 20</td>\n",
       "      <td>Others</td>\n",
       "      <td>Ekta Zutshi</td>\n",
       "      <td>Russell Dahlen</td>\n",
       "      <td>80882.35</td>\n",
       "      <td>Lost</td>\n",
       "    </tr>\n",
       "  </tbody>\n",
       "</table>\n",
       "</div>"
      ],
      "text/plain": [
       "  Client Category Solution Type  Deal Date     Sector Location      VP Name  \\\n",
       "0         Telecom    Solution 7 2012-03-27  Sector 24       L5  Ekta Zutshi   \n",
       "1         Telecom    Solution 7 2012-09-25  Sector 24       L5  Ekta Zutshi   \n",
       "2        Internal   Solution 59 2011-08-01  Sector 20   Others  Ekta Zutshi   \n",
       "3        Internal   Solution 59 2011-04-28  Sector 20   Others  Ekta Zutshi   \n",
       "4        Internal   Solution 32 2011-06-03  Sector 20   Others  Ekta Zutshi   \n",
       "\n",
       "      Manager Name  Deal Cost Deal Status Code  \n",
       "0  Gopa Trilochana  150000.00              Won  \n",
       "1  Gopa Trilochana  744705.88              Won  \n",
       "2   Russell Dahlen   60000.00             Lost  \n",
       "3   Russell Dahlen   60000.00             Lost  \n",
       "4   Russell Dahlen   80882.35             Lost  "
      ]
     },
     "execution_count": 71,
     "metadata": {},
     "output_type": "execute_result"
    }
   ],
   "source": [
    "#Overview of Data\n",
    "df.head()"
   ]
  },
  {
   "cell_type": "code",
   "execution_count": 72,
   "metadata": {},
   "outputs": [
    {
     "data": {
      "text/plain": [
       "Index(['Client Category', 'Solution Type', 'Deal Date', 'Sector', 'Location',\n",
       "       'VP Name', 'Manager Name', 'Deal Cost', 'Deal Status Code'],\n",
       "      dtype='object')"
      ]
     },
     "execution_count": 72,
     "metadata": {},
     "output_type": "execute_result"
    }
   ],
   "source": [
    "df.columns"
   ]
  },
  {
   "cell_type": "code",
   "execution_count": 73,
   "metadata": {},
   "outputs": [],
   "source": [
    "col = ['Client_Category', 'Solution_Type', 'Deal_Date', 'Sector', 'Location',\n",
    "       'VP_Name', 'Manager_Name', 'Deal_Cost', 'Deal_Status']"
   ]
  },
  {
   "cell_type": "code",
   "execution_count": 74,
   "metadata": {},
   "outputs": [],
   "source": [
    "df.columns = col "
   ]
  },
  {
   "cell_type": "code",
   "execution_count": 75,
   "metadata": {},
   "outputs": [
    {
     "name": "stdout",
     "output_type": "stream",
     "text": [
      "<class 'pandas.core.frame.DataFrame'>\n",
      "RangeIndex: 10061 entries, 0 to 10060\n",
      "Data columns (total 9 columns):\n",
      " #   Column           Non-Null Count  Dtype         \n",
      "---  ------           --------------  -----         \n",
      " 0   Client_Category  9982 non-null   object        \n",
      " 1   Solution_Type    10061 non-null  object        \n",
      " 2   Deal_Date        10061 non-null  datetime64[ns]\n",
      " 3   Sector           10061 non-null  object        \n",
      " 4   Location         10061 non-null  object        \n",
      " 5   VP_Name          10061 non-null  object        \n",
      " 6   Manager_Name     10061 non-null  object        \n",
      " 7   Deal_Cost        10061 non-null  float64       \n",
      " 8   Deal_Status      10061 non-null  object        \n",
      "dtypes: datetime64[ns](1), float64(1), object(7)\n",
      "memory usage: 707.5+ KB\n"
     ]
    }
   ],
   "source": [
    "df.info()"
   ]
  },
  {
   "cell_type": "code",
   "execution_count": 76,
   "metadata": {},
   "outputs": [
    {
     "data": {
      "text/html": [
       "<div>\n",
       "<style scoped>\n",
       "    .dataframe tbody tr th:only-of-type {\n",
       "        vertical-align: middle;\n",
       "    }\n",
       "\n",
       "    .dataframe tbody tr th {\n",
       "        vertical-align: top;\n",
       "    }\n",
       "\n",
       "    .dataframe thead th {\n",
       "        text-align: right;\n",
       "    }\n",
       "</style>\n",
       "<table border=\"1\" class=\"dataframe\">\n",
       "  <thead>\n",
       "    <tr style=\"text-align: right;\">\n",
       "      <th></th>\n",
       "      <th>Client_Category</th>\n",
       "      <th>Solution_Type</th>\n",
       "      <th>Sector</th>\n",
       "      <th>Location</th>\n",
       "      <th>VP_Name</th>\n",
       "      <th>Manager_Name</th>\n",
       "      <th>Deal_Status</th>\n",
       "    </tr>\n",
       "  </thead>\n",
       "  <tbody>\n",
       "    <tr>\n",
       "      <th>count</th>\n",
       "      <td>9982</td>\n",
       "      <td>10061</td>\n",
       "      <td>10061</td>\n",
       "      <td>10061</td>\n",
       "      <td>10061</td>\n",
       "      <td>10061</td>\n",
       "      <td>10061</td>\n",
       "    </tr>\n",
       "    <tr>\n",
       "      <th>unique</th>\n",
       "      <td>41</td>\n",
       "      <td>67</td>\n",
       "      <td>25</td>\n",
       "      <td>13</td>\n",
       "      <td>43</td>\n",
       "      <td>278</td>\n",
       "      <td>2</td>\n",
       "    </tr>\n",
       "    <tr>\n",
       "      <th>top</th>\n",
       "      <td>Others</td>\n",
       "      <td>Solution 32</td>\n",
       "      <td>Sector 23</td>\n",
       "      <td>L10</td>\n",
       "      <td>Mervin Harwood</td>\n",
       "      <td>Molly Eakes</td>\n",
       "      <td>Lost</td>\n",
       "    </tr>\n",
       "    <tr>\n",
       "      <th>freq</th>\n",
       "      <td>1763</td>\n",
       "      <td>1439</td>\n",
       "      <td>2693</td>\n",
       "      <td>3360</td>\n",
       "      <td>1166</td>\n",
       "      <td>323</td>\n",
       "      <td>6306</td>\n",
       "    </tr>\n",
       "  </tbody>\n",
       "</table>\n",
       "</div>"
      ],
      "text/plain": [
       "       Client_Category Solution_Type     Sector Location         VP_Name  \\\n",
       "count             9982         10061      10061    10061           10061   \n",
       "unique              41            67         25       13              43   \n",
       "top             Others   Solution 32  Sector 23      L10  Mervin Harwood   \n",
       "freq              1763          1439       2693     3360            1166   \n",
       "\n",
       "       Manager_Name Deal_Status  \n",
       "count         10061       10061  \n",
       "unique          278           2  \n",
       "top     Molly Eakes        Lost  \n",
       "freq            323        6306  "
      ]
     },
     "execution_count": 76,
     "metadata": {},
     "output_type": "execute_result"
    }
   ],
   "source": [
    "df.describe(include=\"object\")"
   ]
  },
  {
   "cell_type": "markdown",
   "metadata": {},
   "source": [
    "# Exploratory Data Analysis"
   ]
  },
  {
   "cell_type": "code",
   "execution_count": 28,
   "metadata": {},
   "outputs": [
    {
     "data": {
      "image/png": "[encoded data removed]",
      "text/plain": [
       "<Figure size 432x288 with 1 Axes>"
      ]
     },
     "metadata": {},
     "output_type": "display_data"
    }
   ],
   "source": [
    "#Counting Win Loss Cases\n",
    "sns.countplot(df[\"Deal_Status\"]);"
   ]
  },
  {
   "cell_type": "markdown",
   "metadata": {},
   "source": [
    " We can observe Loss Cases are higher than win cases"
   ]
  },
  {
   "cell_type": "code",
   "execution_count": 29,
   "metadata": {},
   "outputs": [
    {
     "data": {
      "text/plain": [
       "Others                   1763\n",
       "Internal                 1454\n",
       "Services_based           1202\n",
       "Tech                      913\n",
       "Domestic Public Bank      419\n",
       "International Bank        376\n",
       "Consulting                352\n",
       "Finance                   339\n",
       "Telecom                   327\n",
       "Power ind                 264\n",
       "Domestic Private Bank     262\n",
       "Insurance                 247\n",
       "Consumer Good             185\n",
       "Automobiles               178\n",
       "Infrastructure            152\n",
       "Domestic Bank             134\n",
       "Retail_market             126\n",
       "Govt                      121\n",
       "Hospitality               119\n",
       "Manufacturing             117\n",
       "Pharma                    110\n",
       "Healthcare                 99\n",
       "Electronics                81\n",
       "Media_Journal              71\n",
       "Industries                 66\n",
       "Research Development       63\n",
       "Energy                     57\n",
       "Knowledge                  50\n",
       "Management                 43\n",
       "Govt Bank Special          41\n",
       "Payment                    40\n",
       "Energy                     37\n",
       "e-commerce                 32\n",
       "Airpline                   27\n",
       "Holding                    25\n",
       "International Org          25\n",
       "Logistics                  20\n",
       "Real Estate                19\n",
       "Share_market               14\n",
       "Tax_audit                   7\n",
       "Medical                     5\n",
       "Name: Client_Category, dtype: int64"
      ]
     },
     "execution_count": 29,
     "metadata": {},
     "output_type": "execute_result"
    }
   ],
   "source": [
    "# let's find the most frequent categories for the variable Client Category\n",
    "\n",
    "df[\"Client_Category\"].value_counts()"
   ]
  },
  {
   "cell_type": "code",
   "execution_count": 30,
   "metadata": {},
   "outputs": [
    {
     "data": {
      "text/html": [
       "<div>\n",
       "<style scoped>\n",
       "    .dataframe tbody tr th:only-of-type {\n",
       "        vertical-align: middle;\n",
       "    }\n",
       "\n",
       "    .dataframe tbody tr th {\n",
       "        vertical-align: top;\n",
       "    }\n",
       "\n",
       "    .dataframe thead th {\n",
       "        text-align: right;\n",
       "    }\n",
       "</style>\n",
       "<table border=\"1\" class=\"dataframe\">\n",
       "  <thead>\n",
       "    <tr style=\"text-align: right;\">\n",
       "      <th>Deal_Status</th>\n",
       "      <th>Lost</th>\n",
       "      <th>Won</th>\n",
       "      <th>Total</th>\n",
       "      <th>win%</th>\n",
       "    </tr>\n",
       "    <tr>\n",
       "      <th>Client_Category</th>\n",
       "      <th></th>\n",
       "      <th></th>\n",
       "      <th></th>\n",
       "      <th></th>\n",
       "    </tr>\n",
       "  </thead>\n",
       "  <tbody>\n",
       "    <tr>\n",
       "      <th>Share_market</th>\n",
       "      <td>4</td>\n",
       "      <td>10</td>\n",
       "      <td>14</td>\n",
       "      <td>71.428571</td>\n",
       "    </tr>\n",
       "    <tr>\n",
       "      <th>Internal</th>\n",
       "      <td>694</td>\n",
       "      <td>760</td>\n",
       "      <td>1454</td>\n",
       "      <td>52.269601</td>\n",
       "    </tr>\n",
       "    <tr>\n",
       "      <th>Management</th>\n",
       "      <td>22</td>\n",
       "      <td>21</td>\n",
       "      <td>43</td>\n",
       "      <td>48.837209</td>\n",
       "    </tr>\n",
       "    <tr>\n",
       "      <th>Consulting</th>\n",
       "      <td>182</td>\n",
       "      <td>170</td>\n",
       "      <td>352</td>\n",
       "      <td>48.295455</td>\n",
       "    </tr>\n",
       "    <tr>\n",
       "      <th>Consumer Good</th>\n",
       "      <td>98</td>\n",
       "      <td>87</td>\n",
       "      <td>185</td>\n",
       "      <td>47.027027</td>\n",
       "    </tr>\n",
       "    <tr>\n",
       "      <th>Holding</th>\n",
       "      <td>14</td>\n",
       "      <td>11</td>\n",
       "      <td>25</td>\n",
       "      <td>44.000000</td>\n",
       "    </tr>\n",
       "    <tr>\n",
       "      <th>Energy</th>\n",
       "      <td>32</td>\n",
       "      <td>25</td>\n",
       "      <td>57</td>\n",
       "      <td>43.859649</td>\n",
       "    </tr>\n",
       "    <tr>\n",
       "      <th>International Bank</th>\n",
       "      <td>216</td>\n",
       "      <td>160</td>\n",
       "      <td>376</td>\n",
       "      <td>42.553191</td>\n",
       "    </tr>\n",
       "    <tr>\n",
       "      <th>Power ind</th>\n",
       "      <td>152</td>\n",
       "      <td>112</td>\n",
       "      <td>264</td>\n",
       "      <td>42.424242</td>\n",
       "    </tr>\n",
       "    <tr>\n",
       "      <th>Infrastructure</th>\n",
       "      <td>88</td>\n",
       "      <td>64</td>\n",
       "      <td>152</td>\n",
       "      <td>42.105263</td>\n",
       "    </tr>\n",
       "    <tr>\n",
       "      <th>Domestic Bank</th>\n",
       "      <td>78</td>\n",
       "      <td>56</td>\n",
       "      <td>134</td>\n",
       "      <td>41.791045</td>\n",
       "    </tr>\n",
       "    <tr>\n",
       "      <th>Telecom</th>\n",
       "      <td>192</td>\n",
       "      <td>135</td>\n",
       "      <td>327</td>\n",
       "      <td>41.284404</td>\n",
       "    </tr>\n",
       "    <tr>\n",
       "      <th>Media_Journal</th>\n",
       "      <td>42</td>\n",
       "      <td>29</td>\n",
       "      <td>71</td>\n",
       "      <td>40.845070</td>\n",
       "    </tr>\n",
       "    <tr>\n",
       "      <th>e-commerce</th>\n",
       "      <td>20</td>\n",
       "      <td>12</td>\n",
       "      <td>32</td>\n",
       "      <td>37.500000</td>\n",
       "    </tr>\n",
       "    <tr>\n",
       "      <th>Automobiles</th>\n",
       "      <td>112</td>\n",
       "      <td>66</td>\n",
       "      <td>178</td>\n",
       "      <td>37.078652</td>\n",
       "    </tr>\n",
       "    <tr>\n",
       "      <th>Others</th>\n",
       "      <td>1132</td>\n",
       "      <td>631</td>\n",
       "      <td>1763</td>\n",
       "      <td>35.791265</td>\n",
       "    </tr>\n",
       "    <tr>\n",
       "      <th>Tech</th>\n",
       "      <td>600</td>\n",
       "      <td>313</td>\n",
       "      <td>913</td>\n",
       "      <td>34.282585</td>\n",
       "    </tr>\n",
       "    <tr>\n",
       "      <th>Services_based</th>\n",
       "      <td>794</td>\n",
       "      <td>408</td>\n",
       "      <td>1202</td>\n",
       "      <td>33.943428</td>\n",
       "    </tr>\n",
       "    <tr>\n",
       "      <th>Electronics</th>\n",
       "      <td>54</td>\n",
       "      <td>27</td>\n",
       "      <td>81</td>\n",
       "      <td>33.333333</td>\n",
       "    </tr>\n",
       "    <tr>\n",
       "      <th>Domestic Private Bank</th>\n",
       "      <td>176</td>\n",
       "      <td>86</td>\n",
       "      <td>262</td>\n",
       "      <td>32.824427</td>\n",
       "    </tr>\n",
       "    <tr>\n",
       "      <th>Finance</th>\n",
       "      <td>230</td>\n",
       "      <td>109</td>\n",
       "      <td>339</td>\n",
       "      <td>32.153392</td>\n",
       "    </tr>\n",
       "    <tr>\n",
       "      <th>Manufacturing</th>\n",
       "      <td>80</td>\n",
       "      <td>37</td>\n",
       "      <td>117</td>\n",
       "      <td>31.623932</td>\n",
       "    </tr>\n",
       "    <tr>\n",
       "      <th>Healthcare</th>\n",
       "      <td>68</td>\n",
       "      <td>31</td>\n",
       "      <td>99</td>\n",
       "      <td>31.313131</td>\n",
       "    </tr>\n",
       "    <tr>\n",
       "      <th>Industries</th>\n",
       "      <td>46</td>\n",
       "      <td>20</td>\n",
       "      <td>66</td>\n",
       "      <td>30.303030</td>\n",
       "    </tr>\n",
       "    <tr>\n",
       "      <th>Pharma</th>\n",
       "      <td>78</td>\n",
       "      <td>32</td>\n",
       "      <td>110</td>\n",
       "      <td>29.090909</td>\n",
       "    </tr>\n",
       "    <tr>\n",
       "      <th>Govt</th>\n",
       "      <td>86</td>\n",
       "      <td>35</td>\n",
       "      <td>121</td>\n",
       "      <td>28.925620</td>\n",
       "    </tr>\n",
       "    <tr>\n",
       "      <th>Knowledge</th>\n",
       "      <td>36</td>\n",
       "      <td>14</td>\n",
       "      <td>50</td>\n",
       "      <td>28.000000</td>\n",
       "    </tr>\n",
       "    <tr>\n",
       "      <th>Insurance</th>\n",
       "      <td>178</td>\n",
       "      <td>69</td>\n",
       "      <td>247</td>\n",
       "      <td>27.935223</td>\n",
       "    </tr>\n",
       "    <tr>\n",
       "      <th>Research Development</th>\n",
       "      <td>46</td>\n",
       "      <td>17</td>\n",
       "      <td>63</td>\n",
       "      <td>26.984127</td>\n",
       "    </tr>\n",
       "    <tr>\n",
       "      <th>Real Estate</th>\n",
       "      <td>14</td>\n",
       "      <td>5</td>\n",
       "      <td>19</td>\n",
       "      <td>26.315789</td>\n",
       "    </tr>\n",
       "    <tr>\n",
       "      <th>Payment</th>\n",
       "      <td>30</td>\n",
       "      <td>10</td>\n",
       "      <td>40</td>\n",
       "      <td>25.000000</td>\n",
       "    </tr>\n",
       "    <tr>\n",
       "      <th>Energy</th>\n",
       "      <td>28</td>\n",
       "      <td>9</td>\n",
       "      <td>37</td>\n",
       "      <td>24.324324</td>\n",
       "    </tr>\n",
       "    <tr>\n",
       "      <th>Domestic Public Bank</th>\n",
       "      <td>324</td>\n",
       "      <td>95</td>\n",
       "      <td>419</td>\n",
       "      <td>22.673031</td>\n",
       "    </tr>\n",
       "    <tr>\n",
       "      <th>Govt Bank Special</th>\n",
       "      <td>32</td>\n",
       "      <td>9</td>\n",
       "      <td>41</td>\n",
       "      <td>21.951220</td>\n",
       "    </tr>\n",
       "    <tr>\n",
       "      <th>Hospitality</th>\n",
       "      <td>94</td>\n",
       "      <td>25</td>\n",
       "      <td>119</td>\n",
       "      <td>21.008403</td>\n",
       "    </tr>\n",
       "    <tr>\n",
       "      <th>Medical</th>\n",
       "      <td>4</td>\n",
       "      <td>1</td>\n",
       "      <td>5</td>\n",
       "      <td>20.000000</td>\n",
       "    </tr>\n",
       "    <tr>\n",
       "      <th>Logistics</th>\n",
       "      <td>16</td>\n",
       "      <td>4</td>\n",
       "      <td>20</td>\n",
       "      <td>20.000000</td>\n",
       "    </tr>\n",
       "    <tr>\n",
       "      <th>Airpline</th>\n",
       "      <td>22</td>\n",
       "      <td>5</td>\n",
       "      <td>27</td>\n",
       "      <td>18.518519</td>\n",
       "    </tr>\n",
       "    <tr>\n",
       "      <th>Retail_market</th>\n",
       "      <td>106</td>\n",
       "      <td>20</td>\n",
       "      <td>126</td>\n",
       "      <td>15.873016</td>\n",
       "    </tr>\n",
       "    <tr>\n",
       "      <th>Tax_audit</th>\n",
       "      <td>6</td>\n",
       "      <td>1</td>\n",
       "      <td>7</td>\n",
       "      <td>14.285714</td>\n",
       "    </tr>\n",
       "    <tr>\n",
       "      <th>International Org</th>\n",
       "      <td>22</td>\n",
       "      <td>3</td>\n",
       "      <td>25</td>\n",
       "      <td>12.000000</td>\n",
       "    </tr>\n",
       "  </tbody>\n",
       "</table>\n",
       "</div>"
      ],
      "text/plain": [
       "Deal_Status            Lost  Won  Total       win%\n",
       "Client_Category                                   \n",
       "Share_market              4   10     14  71.428571\n",
       "Internal                694  760   1454  52.269601\n",
       "Management               22   21     43  48.837209\n",
       "Consulting              182  170    352  48.295455\n",
       "Consumer Good            98   87    185  47.027027\n",
       "Holding                  14   11     25  44.000000\n",
       "Energy                   32   25     57  43.859649\n",
       "International Bank      216  160    376  42.553191\n",
       "Power ind               152  112    264  42.424242\n",
       "Infrastructure           88   64    152  42.105263\n",
       "Domestic Bank            78   56    134  41.791045\n",
       "Telecom                 192  135    327  41.284404\n",
       "Media_Journal            42   29     71  40.845070\n",
       "e-commerce               20   12     32  37.500000\n",
       "Automobiles             112   66    178  37.078652\n",
       "Others                 1132  631   1763  35.791265\n",
       "Tech                    600  313    913  34.282585\n",
       "Services_based          794  408   1202  33.943428\n",
       "Electronics              54   27     81  33.333333\n",
       "Domestic Private Bank   176   86    262  32.824427\n",
       "Finance                 230  109    339  32.153392\n",
       "Manufacturing            80   37    117  31.623932\n",
       "Healthcare               68   31     99  31.313131\n",
       "Industries               46   20     66  30.303030\n",
       "Pharma                   78   32    110  29.090909\n",
       "Govt                     86   35    121  28.925620\n",
       "Knowledge                36   14     50  28.000000\n",
       "Insurance               178   69    247  27.935223\n",
       "Research Development     46   17     63  26.984127\n",
       "Real Estate              14    5     19  26.315789\n",
       "Payment                  30   10     40  25.000000\n",
       "Energy                   28    9     37  24.324324\n",
       "Domestic Public Bank    324   95    419  22.673031\n",
       "Govt Bank Special        32    9     41  21.951220\n",
       "Hospitality              94   25    119  21.008403\n",
       "Medical                   4    1      5  20.000000\n",
       "Logistics                16    4     20  20.000000\n",
       "Airpline                 22    5     27  18.518519\n",
       "Retail_market           106   20    126  15.873016\n",
       "Tax_audit                 6    1      7  14.285714\n",
       "International Org        22    3     25  12.000000"
      ]
     },
     "execution_count": 30,
     "metadata": {},
     "output_type": "execute_result"
    }
   ],
   "source": [
    "# Finding the most Client Category with Higesh Win%\n",
    "\n",
    "report = pd.crosstab(df[\"Client_Category\"],df[\"Deal_Status\"])\n",
    "report['Total'] = (report['Won']+report['Lost'])\n",
    "report['win%'] = (report['Won']*100)/(report['Total'])\n",
    "report.sort_values(by=['win%'],ascending = False)"
   ]
  },
  {
   "cell_type": "markdown",
   "metadata": {},
   "source": [
    "From the Above Table we can observe, \"internal\" project have a veruu high percentage of win. We would need to remove the internal category as it would skew the data towards WIN cases."
   ]
  },
  {
   "cell_type": "code",
   "execution_count": 280,
   "metadata": {},
   "outputs": [
    {
     "data": {
      "image/png": "[encoded data removed]",
      "text/plain": [
       "<Figure size 720x288 with 1 Axes>"
      ]
     },
     "metadata": {},
     "output_type": "display_data"
    }
   ],
   "source": [
    "#Analysing the Deal Cost\n",
    "df['Deal_Cost'].hist(bins = 40, figsize = (10,4));"
   ]
  },
  {
   "cell_type": "markdown",
   "metadata": {},
   "source": [
    "From the above Grapgh we can see that majority of the deals are below 0.5 Million USD. Thus the data is right skewed."
   ]
  },
  {
   "cell_type": "code",
   "execution_count": 281,
   "metadata": {},
   "outputs": [
    {
     "data": {
      "text/plain": [
       "count    1.006100e+04\n",
       "mean     7.668969e+05\n",
       "std      1.619894e+06\n",
       "min      0.000000e+00\n",
       "25%      1.897059e+05\n",
       "50%      3.823529e+05\n",
       "75%      7.647059e+05\n",
       "max      3.676471e+07\n",
       "Name: Deal_Cost, dtype: float64"
      ]
     },
     "execution_count": 281,
     "metadata": {},
     "output_type": "execute_result"
    }
   ],
   "source": [
    "#Analysing Deal Cost\n",
    "df['Deal_Cost'].describe()"
   ]
  },
  {
   "cell_type": "code",
   "execution_count": 77,
   "metadata": {},
   "outputs": [],
   "source": [
    "#Deal year\n",
    "df['Deal_Year'] = pd.DatetimeIndex(df['Deal_Date']).year"
   ]
  },
  {
   "cell_type": "code",
   "execution_count": 283,
   "metadata": {},
   "outputs": [
    {
     "data": {
      "image/png": "[encoded data removed]",
      "text/plain": [
       "<Figure size 432x288 with 1 Axes>"
      ]
     },
     "metadata": {},
     "output_type": "display_data"
    }
   ],
   "source": [
    "sns.countplot(df[\"Deal_Year\"]);"
   ]
  },
  {
   "cell_type": "markdown",
   "metadata": {},
   "source": [
    "From the above plot we can observe that the number of deals are increasing every year, and we dont have complete data for 2019."
   ]
  },
  {
   "cell_type": "code",
   "execution_count": 284,
   "metadata": {},
   "outputs": [
    {
     "data": {
      "text/html": [
       "<div>\n",
       "<style scoped>\n",
       "    .dataframe tbody tr th:only-of-type {\n",
       "        vertical-align: middle;\n",
       "    }\n",
       "\n",
       "    .dataframe tbody tr th {\n",
       "        vertical-align: top;\n",
       "    }\n",
       "\n",
       "    .dataframe thead tr th {\n",
       "        text-align: left;\n",
       "    }\n",
       "\n",
       "    .dataframe thead tr:last-of-type th {\n",
       "        text-align: right;\n",
       "    }\n",
       "</style>\n",
       "<table border=\"1\" class=\"dataframe\">\n",
       "  <thead>\n",
       "    <tr>\n",
       "      <th></th>\n",
       "      <th colspan=\"2\" halign=\"left\">Deal_Cost</th>\n",
       "    </tr>\n",
       "    <tr>\n",
       "      <th></th>\n",
       "      <th>count</th>\n",
       "      <th>median</th>\n",
       "    </tr>\n",
       "    <tr>\n",
       "      <th>Deal_Status</th>\n",
       "      <th></th>\n",
       "      <th></th>\n",
       "    </tr>\n",
       "  </thead>\n",
       "  <tbody>\n",
       "    <tr>\n",
       "      <th>Lost</th>\n",
       "      <td>6306</td>\n",
       "      <td>426470.59</td>\n",
       "    </tr>\n",
       "    <tr>\n",
       "      <th>Won</th>\n",
       "      <td>3755</td>\n",
       "      <td>345000.00</td>\n",
       "    </tr>\n",
       "  </tbody>\n",
       "</table>\n",
       "</div>"
      ],
      "text/plain": [
       "            Deal_Cost           \n",
       "                count     median\n",
       "Deal_Status                     \n",
       "Lost             6306  426470.59\n",
       "Won              3755  345000.00"
      ]
     },
     "execution_count": 284,
     "metadata": {},
     "output_type": "execute_result"
    }
   ],
   "source": [
    "df.groupby('Deal_Status')[['Deal_Cost']].agg([\"count\",\"median\"])"
   ]
  },
  {
   "cell_type": "markdown",
   "metadata": {},
   "source": [
    "From the above table we can observe that the Median for Loss deals is higher than median for Won Deals, thus the organization\n",
    "is winning smaller deals and losing higher value deals."
   ]
  },
  {
   "cell_type": "markdown",
   "metadata": {},
   "source": [
    "# Data Cleansing"
   ]
  },
  {
   "cell_type": "code",
   "execution_count": 78,
   "metadata": {},
   "outputs": [
    {
     "data": {
      "text/plain": [
       "Client_Category    79\n",
       "Solution_Type       0\n",
       "Deal_Date           0\n",
       "Sector              0\n",
       "Location            0\n",
       "VP_Name             0\n",
       "Manager_Name        0\n",
       "Deal_Cost           0\n",
       "Deal_Status         0\n",
       "Deal_Year           0\n",
       "dtype: int64"
      ]
     },
     "execution_count": 78,
     "metadata": {},
     "output_type": "execute_result"
    }
   ],
   "source": [
    "#Checking for Null values\n",
    "df.isnull().sum()"
   ]
  },
  {
   "cell_type": "code",
   "execution_count": 79,
   "metadata": {},
   "outputs": [],
   "source": [
    "#Removing Duplicates Values \n",
    "\n",
    "df.drop_duplicates(subset=None, keep='first', inplace=True)"
   ]
  },
  {
   "cell_type": "code",
   "execution_count": 80,
   "metadata": {},
   "outputs": [],
   "source": [
    "#Replacing Blanks in Client Category with Others\n",
    "df[\"Client_Category\"].fillna(\"Others\",inplace = True)"
   ]
  },
  {
   "cell_type": "code",
   "execution_count": 81,
   "metadata": {},
   "outputs": [
    {
     "data": {
      "text/plain": [
       "441176.47"
      ]
     },
     "execution_count": 81,
     "metadata": {},
     "output_type": "execute_result"
    }
   ],
   "source": [
    "#calculating mean of lost deals\n",
    "median = df[df['Deal_Cost']!=0].groupby('Deal_Status').median().iloc[0]['Deal_Cost']\n",
    "median"
   ]
  },
  {
   "cell_type": "code",
   "execution_count": 82,
   "metadata": {},
   "outputs": [],
   "source": [
    "#filling zero deal cost values with median deal cost of all lost deals\n",
    "\n",
    "def Deal_Cost_Median(Deal_Cost):\n",
    "    if Deal_Cost == 0:\n",
    "        return median\n",
    "    else:\n",
    "        return Deal_Cost\n",
    "    \n",
    "df[\"Deal_Cost\"] = df[\"Deal_Cost\"].apply(Deal_Cost_Median)  "
   ]
  },
  {
   "cell_type": "code",
   "execution_count": 83,
   "metadata": {},
   "outputs": [],
   "source": [
    "#Removing the Internal Data from the dataframe\n",
    "df = df[df[\"Client_Category\"]!=\"Internal\"]"
   ]
  },
  {
   "cell_type": "code",
   "execution_count": 84,
   "metadata": {},
   "outputs": [
    {
     "data": {
      "text/plain": [
       "Client_Category    0\n",
       "Solution_Type      0\n",
       "Deal_Date          0\n",
       "Sector             0\n",
       "Location           0\n",
       "VP_Name            0\n",
       "Manager_Name       0\n",
       "Deal_Cost          0\n",
       "Deal_Status        0\n",
       "Deal_Year          0\n",
       "dtype: int64"
      ]
     },
     "execution_count": 84,
     "metadata": {},
     "output_type": "execute_result"
    }
   ],
   "source": [
    "#Checking for Null values\n",
    "df.isnull().sum()"
   ]
  },
  {
   "cell_type": "code",
   "execution_count": 85,
   "metadata": {},
   "outputs": [
    {
     "data": {
      "text/plain": [
       "Client_Category    0\n",
       "Solution_Type      0\n",
       "Deal_Date          0\n",
       "Sector             0\n",
       "Location           0\n",
       "VP_Name            0\n",
       "Manager_Name       0\n",
       "Deal_Cost          0\n",
       "Deal_Status        0\n",
       "Deal_Year          0\n",
       "dtype: int64"
      ]
     },
     "execution_count": 85,
     "metadata": {},
     "output_type": "execute_result"
    }
   ],
   "source": [
    "#Checking if there are any \"0\" Deal Cost values\n",
    "df.isin([0]).sum()"
   ]
  },
  {
   "cell_type": "markdown",
   "metadata": {},
   "source": [
    "# Transforming Variables"
   ]
  },
  {
   "cell_type": "code",
   "execution_count": 86,
   "metadata": {},
   "outputs": [],
   "source": [
    "#Encoding \"Won\" as 1, and \"Lost\" as \"0\"\n",
    "def Deal_status_Code(Deal_Status):\n",
    "    if Deal_Status == \"Won\":\n",
    "        return 1\n",
    "    else:\n",
    "        return 0"
   ]
  },
  {
   "cell_type": "code",
   "execution_count": 87,
   "metadata": {},
   "outputs": [],
   "source": [
    "df[\"Deal_Status\"] = df[\"Deal_Status\"].apply(Deal_status_Code)"
   ]
  },
  {
   "cell_type": "code",
   "execution_count": 88,
   "metadata": {},
   "outputs": [
    {
     "data": {
      "text/html": [
       "<div>\n",
       "<style scoped>\n",
       "    .dataframe tbody tr th:only-of-type {\n",
       "        vertical-align: middle;\n",
       "    }\n",
       "\n",
       "    .dataframe tbody tr th {\n",
       "        vertical-align: top;\n",
       "    }\n",
       "\n",
       "    .dataframe thead th {\n",
       "        text-align: right;\n",
       "    }\n",
       "</style>\n",
       "<table border=\"1\" class=\"dataframe\">\n",
       "  <thead>\n",
       "    <tr style=\"text-align: right;\">\n",
       "      <th></th>\n",
       "      <th>Client_Category</th>\n",
       "      <th>Solution_Type</th>\n",
       "      <th>Deal_Date</th>\n",
       "      <th>Sector</th>\n",
       "      <th>Location</th>\n",
       "      <th>VP_Name</th>\n",
       "      <th>Manager_Name</th>\n",
       "      <th>Deal_Cost</th>\n",
       "      <th>Deal_Status</th>\n",
       "      <th>Deal_Year</th>\n",
       "    </tr>\n",
       "  </thead>\n",
       "  <tbody>\n",
       "    <tr>\n",
       "      <th>0</th>\n",
       "      <td>Telecom</td>\n",
       "      <td>Solution 7</td>\n",
       "      <td>2012-03-27</td>\n",
       "      <td>Sector 24</td>\n",
       "      <td>L5</td>\n",
       "      <td>Ekta Zutshi</td>\n",
       "      <td>Gopa Trilochana</td>\n",
       "      <td>150000.00</td>\n",
       "      <td>1</td>\n",
       "      <td>2012</td>\n",
       "    </tr>\n",
       "    <tr>\n",
       "      <th>1</th>\n",
       "      <td>Telecom</td>\n",
       "      <td>Solution 7</td>\n",
       "      <td>2012-09-25</td>\n",
       "      <td>Sector 24</td>\n",
       "      <td>L5</td>\n",
       "      <td>Ekta Zutshi</td>\n",
       "      <td>Gopa Trilochana</td>\n",
       "      <td>744705.88</td>\n",
       "      <td>1</td>\n",
       "      <td>2012</td>\n",
       "    </tr>\n",
       "    <tr>\n",
       "      <th>7</th>\n",
       "      <td>Govt</td>\n",
       "      <td>Solution 7</td>\n",
       "      <td>2012-09-17</td>\n",
       "      <td>Sector 13</td>\n",
       "      <td>L5</td>\n",
       "      <td>Sargar Deep Rao</td>\n",
       "      <td>Vidur Hukle</td>\n",
       "      <td>409705.88</td>\n",
       "      <td>0</td>\n",
       "      <td>2012</td>\n",
       "    </tr>\n",
       "    <tr>\n",
       "      <th>8</th>\n",
       "      <td>Consumer Good</td>\n",
       "      <td>Solution 42</td>\n",
       "      <td>2012-04-11</td>\n",
       "      <td>Sector 12</td>\n",
       "      <td>L10</td>\n",
       "      <td>Lilli Storrs</td>\n",
       "      <td>Md. Daud</td>\n",
       "      <td>1032352.94</td>\n",
       "      <td>1</td>\n",
       "      <td>2012</td>\n",
       "    </tr>\n",
       "    <tr>\n",
       "      <th>10</th>\n",
       "      <td>International Bank</td>\n",
       "      <td>Solution 6</td>\n",
       "      <td>2012-02-11</td>\n",
       "      <td>Sector 2</td>\n",
       "      <td>L10</td>\n",
       "      <td>Long Bergstrom</td>\n",
       "      <td>Luv Malhotra</td>\n",
       "      <td>316176.47</td>\n",
       "      <td>1</td>\n",
       "      <td>2012</td>\n",
       "    </tr>\n",
       "  </tbody>\n",
       "</table>\n",
       "</div>"
      ],
      "text/plain": [
       "       Client_Category Solution_Type  Deal_Date     Sector Location  \\\n",
       "0              Telecom    Solution 7 2012-03-27  Sector 24       L5   \n",
       "1              Telecom    Solution 7 2012-09-25  Sector 24       L5   \n",
       "7                 Govt    Solution 7 2012-09-17  Sector 13       L5   \n",
       "8        Consumer Good   Solution 42 2012-04-11  Sector 12      L10   \n",
       "10  International Bank    Solution 6 2012-02-11   Sector 2      L10   \n",
       "\n",
       "            VP_Name     Manager_Name   Deal_Cost  Deal_Status  Deal_Year  \n",
       "0       Ekta Zutshi  Gopa Trilochana   150000.00            1       2012  \n",
       "1       Ekta Zutshi  Gopa Trilochana   744705.88            1       2012  \n",
       "7   Sargar Deep Rao      Vidur Hukle   409705.88            0       2012  \n",
       "8      Lilli Storrs         Md. Daud  1032352.94            1       2012  \n",
       "10   Long Bergstrom     Luv Malhotra   316176.47            1       2012  "
      ]
     },
     "execution_count": 88,
     "metadata": {},
     "output_type": "execute_result"
    }
   ],
   "source": [
    "df.head()"
   ]
  },
  {
   "cell_type": "code",
   "execution_count": 89,
   "metadata": {},
   "outputs": [],
   "source": [
    "#Combining \"VP Name\" and \"Manager Name\" to create a New Colum \"VP+Manager\"\n",
    "df[\"VP+Manager\"] = df[\"VP_Name\"]+\" \"+df[\"Manager_Name\"]"
   ]
  },
  {
   "cell_type": "code",
   "execution_count": 90,
   "metadata": {},
   "outputs": [],
   "source": [
    "#Droping Unrequired columns\n",
    "df.drop('VP_Name',axis=1,inplace=True)\n",
    "df.drop('Manager_Name',axis=1,inplace=True)\n",
    "df.drop('Deal_Year',axis=1,inplace=True)\n",
    "df.drop('Deal_Date',axis=1,inplace=True)"
   ]
  },
  {
   "cell_type": "code",
   "execution_count": 91,
   "metadata": {},
   "outputs": [
    {
     "data": {
      "text/html": [
       "<div>\n",
       "<style scoped>\n",
       "    .dataframe tbody tr th:only-of-type {\n",
       "        vertical-align: middle;\n",
       "    }\n",
       "\n",
       "    .dataframe tbody tr th {\n",
       "        vertical-align: top;\n",
       "    }\n",
       "\n",
       "    .dataframe thead th {\n",
       "        text-align: right;\n",
       "    }\n",
       "</style>\n",
       "<table border=\"1\" class=\"dataframe\">\n",
       "  <thead>\n",
       "    <tr style=\"text-align: right;\">\n",
       "      <th></th>\n",
       "      <th>Client_Category</th>\n",
       "      <th>Solution_Type</th>\n",
       "      <th>Sector</th>\n",
       "      <th>Location</th>\n",
       "      <th>Deal_Cost</th>\n",
       "      <th>Deal_Status</th>\n",
       "      <th>VP+Manager</th>\n",
       "    </tr>\n",
       "  </thead>\n",
       "  <tbody>\n",
       "    <tr>\n",
       "      <th>0</th>\n",
       "      <td>Telecom</td>\n",
       "      <td>Solution 7</td>\n",
       "      <td>Sector 24</td>\n",
       "      <td>L5</td>\n",
       "      <td>150000.00</td>\n",
       "      <td>1</td>\n",
       "      <td>Ekta Zutshi Gopa Trilochana</td>\n",
       "    </tr>\n",
       "    <tr>\n",
       "      <th>1</th>\n",
       "      <td>Telecom</td>\n",
       "      <td>Solution 7</td>\n",
       "      <td>Sector 24</td>\n",
       "      <td>L5</td>\n",
       "      <td>744705.88</td>\n",
       "      <td>1</td>\n",
       "      <td>Ekta Zutshi Gopa Trilochana</td>\n",
       "    </tr>\n",
       "    <tr>\n",
       "      <th>7</th>\n",
       "      <td>Govt</td>\n",
       "      <td>Solution 7</td>\n",
       "      <td>Sector 13</td>\n",
       "      <td>L5</td>\n",
       "      <td>409705.88</td>\n",
       "      <td>0</td>\n",
       "      <td>Sargar Deep Rao Vidur Hukle</td>\n",
       "    </tr>\n",
       "    <tr>\n",
       "      <th>8</th>\n",
       "      <td>Consumer Good</td>\n",
       "      <td>Solution 42</td>\n",
       "      <td>Sector 12</td>\n",
       "      <td>L10</td>\n",
       "      <td>1032352.94</td>\n",
       "      <td>1</td>\n",
       "      <td>Lilli Storrs Md. Daud</td>\n",
       "    </tr>\n",
       "    <tr>\n",
       "      <th>10</th>\n",
       "      <td>International Bank</td>\n",
       "      <td>Solution 6</td>\n",
       "      <td>Sector 2</td>\n",
       "      <td>L10</td>\n",
       "      <td>316176.47</td>\n",
       "      <td>1</td>\n",
       "      <td>Long Bergstrom Luv Malhotra</td>\n",
       "    </tr>\n",
       "  </tbody>\n",
       "</table>\n",
       "</div>"
      ],
      "text/plain": [
       "       Client_Category Solution_Type     Sector Location   Deal_Cost  \\\n",
       "0              Telecom    Solution 7  Sector 24       L5   150000.00   \n",
       "1              Telecom    Solution 7  Sector 24       L5   744705.88   \n",
       "7                 Govt    Solution 7  Sector 13       L5   409705.88   \n",
       "8        Consumer Good   Solution 42  Sector 12      L10  1032352.94   \n",
       "10  International Bank    Solution 6   Sector 2      L10   316176.47   \n",
       "\n",
       "    Deal_Status                   VP+Manager  \n",
       "0             1  Ekta Zutshi Gopa Trilochana  \n",
       "1             1  Ekta Zutshi Gopa Trilochana  \n",
       "7             0  Sargar Deep Rao Vidur Hukle  \n",
       "8             1        Lilli Storrs Md. Daud  \n",
       "10            1  Long Bergstrom Luv Malhotra  "
      ]
     },
     "execution_count": 91,
     "metadata": {},
     "output_type": "execute_result"
    }
   ],
   "source": [
    "#Final data set\n",
    "\n",
    "df.head()"
   ]
  },
  {
   "cell_type": "code",
   "execution_count": 92,
   "metadata": {},
   "outputs": [],
   "source": [
    "#creating a copy of the dataset for further use\n",
    "org_df = df.copy()"
   ]
  },
  {
   "cell_type": "markdown",
   "metadata": {},
   "source": [
    "# Feature Engineering"
   ]
  },
  {
   "cell_type": "markdown",
   "metadata": {},
   "source": [
    "Performing Target Guided Ordinal Encoding"
   ]
  },
  {
   "cell_type": "code",
   "execution_count": 93,
   "metadata": {},
   "outputs": [],
   "source": [
    "#Separating the Categorical variables\n",
    "col = ['Client_Category', 'Solution_Type', 'Sector', 'Location','VP+Manager']"
   ]
  },
  {
   "cell_type": "code",
   "execution_count": 94,
   "metadata": {},
   "outputs": [
    {
     "data": {
      "text/html": [
       "<div>\n",
       "<style scoped>\n",
       "    .dataframe tbody tr th:only-of-type {\n",
       "        vertical-align: middle;\n",
       "    }\n",
       "\n",
       "    .dataframe tbody tr th {\n",
       "        vertical-align: top;\n",
       "    }\n",
       "\n",
       "    .dataframe thead th {\n",
       "        text-align: right;\n",
       "    }\n",
       "</style>\n",
       "<table border=\"1\" class=\"dataframe\">\n",
       "  <thead>\n",
       "    <tr style=\"text-align: right;\">\n",
       "      <th></th>\n",
       "      <th>Client_Category</th>\n",
       "      <th>Solution_Type</th>\n",
       "      <th>Sector</th>\n",
       "      <th>Location</th>\n",
       "      <th>Deal_Cost</th>\n",
       "      <th>Deal_Status</th>\n",
       "      <th>VP+Manager</th>\n",
       "    </tr>\n",
       "  </thead>\n",
       "  <tbody>\n",
       "    <tr>\n",
       "      <th>0</th>\n",
       "      <td>29</td>\n",
       "      <td>31</td>\n",
       "      <td>17</td>\n",
       "      <td>11</td>\n",
       "      <td>150000.00</td>\n",
       "      <td>1</td>\n",
       "      <td>593</td>\n",
       "    </tr>\n",
       "    <tr>\n",
       "      <th>1</th>\n",
       "      <td>29</td>\n",
       "      <td>31</td>\n",
       "      <td>17</td>\n",
       "      <td>11</td>\n",
       "      <td>744705.88</td>\n",
       "      <td>1</td>\n",
       "      <td>593</td>\n",
       "    </tr>\n",
       "    <tr>\n",
       "      <th>7</th>\n",
       "      <td>16</td>\n",
       "      <td>31</td>\n",
       "      <td>1</td>\n",
       "      <td>11</td>\n",
       "      <td>409705.88</td>\n",
       "      <td>0</td>\n",
       "      <td>420</td>\n",
       "    </tr>\n",
       "    <tr>\n",
       "      <th>8</th>\n",
       "      <td>36</td>\n",
       "      <td>41</td>\n",
       "      <td>7</td>\n",
       "      <td>6</td>\n",
       "      <td>1032352.94</td>\n",
       "      <td>1</td>\n",
       "      <td>754</td>\n",
       "    </tr>\n",
       "    <tr>\n",
       "      <th>10</th>\n",
       "      <td>33</td>\n",
       "      <td>23</td>\n",
       "      <td>11</td>\n",
       "      <td>6</td>\n",
       "      <td>316176.47</td>\n",
       "      <td>1</td>\n",
       "      <td>511</td>\n",
       "    </tr>\n",
       "    <tr>\n",
       "      <th>11</th>\n",
       "      <td>8</td>\n",
       "      <td>27</td>\n",
       "      <td>11</td>\n",
       "      <td>10</td>\n",
       "      <td>929411.77</td>\n",
       "      <td>1</td>\n",
       "      <td>367</td>\n",
       "    </tr>\n",
       "    <tr>\n",
       "      <th>12</th>\n",
       "      <td>20</td>\n",
       "      <td>27</td>\n",
       "      <td>11</td>\n",
       "      <td>11</td>\n",
       "      <td>2367647.06</td>\n",
       "      <td>1</td>\n",
       "      <td>340</td>\n",
       "    </tr>\n",
       "    <tr>\n",
       "      <th>13</th>\n",
       "      <td>19</td>\n",
       "      <td>27</td>\n",
       "      <td>19</td>\n",
       "      <td>11</td>\n",
       "      <td>8823529.41</td>\n",
       "      <td>0</td>\n",
       "      <td>210</td>\n",
       "    </tr>\n",
       "    <tr>\n",
       "      <th>14</th>\n",
       "      <td>20</td>\n",
       "      <td>51</td>\n",
       "      <td>21</td>\n",
       "      <td>11</td>\n",
       "      <td>122058.82</td>\n",
       "      <td>0</td>\n",
       "      <td>547</td>\n",
       "    </tr>\n",
       "    <tr>\n",
       "      <th>15</th>\n",
       "      <td>23</td>\n",
       "      <td>49</td>\n",
       "      <td>18</td>\n",
       "      <td>12</td>\n",
       "      <td>529411.77</td>\n",
       "      <td>0</td>\n",
       "      <td>435</td>\n",
       "    </tr>\n",
       "  </tbody>\n",
       "</table>\n",
       "</div>"
      ],
      "text/plain": [
       "    Client_Category  Solution_Type  Sector  Location   Deal_Cost  Deal_Status  \\\n",
       "0                29             31      17        11   150000.00            1   \n",
       "1                29             31      17        11   744705.88            1   \n",
       "7                16             31       1        11   409705.88            0   \n",
       "8                36             41       7         6  1032352.94            1   \n",
       "10               33             23      11         6   316176.47            1   \n",
       "11                8             27      11        10   929411.77            1   \n",
       "12               20             27      11        11  2367647.06            1   \n",
       "13               19             27      19        11  8823529.41            0   \n",
       "14               20             51      21        11   122058.82            0   \n",
       "15               23             49      18        12   529411.77            0   \n",
       "\n",
       "    VP+Manager  \n",
       "0          593  \n",
       "1          593  \n",
       "7          420  \n",
       "8          754  \n",
       "10         511  \n",
       "11         367  \n",
       "12         340  \n",
       "13         210  \n",
       "14         547  \n",
       "15         435  "
      ]
     },
     "execution_count": 94,
     "metadata": {},
     "output_type": "execute_result"
    }
   ],
   "source": [
    "#Converting to Target Guided Ordinal Encoding\n",
    "for feature in col:\n",
    "    ordinal_labels_1 = df.groupby(feature)['Deal_Status'].mean().sort_values().index\n",
    "    ordinal_labels_2={k:i for i,k in enumerate(ordinal_labels_1,0)}\n",
    "    df[feature]=df[feature].map(ordinal_labels_2)\n",
    "\n",
    "df.head(10)    "
   ]
  },
  {
   "cell_type": "code",
   "execution_count": 95,
   "metadata": {},
   "outputs": [],
   "source": [
    "#Separating Independent and Dependent Features\n",
    "data = df.copy()\n",
    "X = data.drop(\"Deal_Status\", axis = 1)\n",
    "Y = data[\"Deal_Status\"]"
   ]
  },
  {
   "cell_type": "markdown",
   "metadata": {},
   "source": [
    "# Splitting the Data"
   ]
  },
  {
   "cell_type": "code",
   "execution_count": 96,
   "metadata": {},
   "outputs": [],
   "source": [
    "#Defining the Variables\n",
    "X_train, X_test, y_train, y_test = train_test_split(X, Y, test_size=0.20, random_state=102)"
   ]
  },
  {
   "cell_type": "code",
   "execution_count": 97,
   "metadata": {},
   "outputs": [],
   "source": [
    "#X_train.to_csv(\"X_Training_Data.csv\",index=False)\n",
    "#X_test.to_csv(\"X_Test_Data.csv\",index=False)\n",
    "#y_train.to_csv(\"y_Training_Data.csv\",index=False)\n",
    "#y_test.to_csv(\"y_Test_Data.csv\",index=False)"
   ]
  },
  {
   "cell_type": "code",
   "execution_count": 98,
   "metadata": {},
   "outputs": [],
   "source": [
    "#Fixed Train and test data after random split (80:20) to get same output after restarting kernel\n",
    "#X_train = pd.read_csv(\"X_Training_Data.csv\")\n",
    "#X_test = pd.read_csv(\"X_Test_Data.csv\")\n",
    "#y_train = pd.read_csv(\"y_Training_Data.csv\")\n",
    "#y_test = pd.read_csv(\"y_Test_Data.csv\")"
   ]
  },
  {
   "cell_type": "code",
   "execution_count": 306,
   "metadata": {},
   "outputs": [
    {
     "data": {
      "text/plain": [
       "array([0.01669321, 0.02531758, 0.00389979, 0.0123561 , 0.06849117,\n",
       "       0.12976539])"
      ]
     },
     "execution_count": 306,
     "metadata": {},
     "output_type": "execute_result"
    }
   ],
   "source": [
    "from sklearn.feature_selection import mutual_info_classif\n",
    "# determine the mutual information\n",
    "mutual_info = mutual_info_classif(X_train, y_train)\n",
    "mutual_info"
   ]
  },
  {
   "cell_type": "code",
   "execution_count": 307,
   "metadata": {},
   "outputs": [
    {
     "data": {
      "text/plain": [
       "VP+Manager         0.129765\n",
       "Deal_Cost          0.068491\n",
       "Solution_Type      0.025318\n",
       "Client_Category    0.016693\n",
       "Location           0.012356\n",
       "Sector             0.003900\n",
       "dtype: float64"
      ]
     },
     "execution_count": 307,
     "metadata": {},
     "output_type": "execute_result"
    }
   ],
   "source": [
    "mutual_info = pd.Series(mutual_info)\n",
    "mutual_info.index = X_train.columns\n",
    "mutual_info.sort_values(ascending=False)"
   ]
  },
  {
   "cell_type": "code",
   "execution_count": 308,
   "metadata": {},
   "outputs": [
    {
     "data": {
      "text/plain": [
       "<AxesSubplot:>"
      ]
     },
     "execution_count": 308,
     "metadata": {},
     "output_type": "execute_result"
    },
    {
     "data": {
      "image/png": "[encoded data removed]",
      "text/plain": [
       "<Figure size 1440x576 with 1 Axes>"
      ]
     },
     "metadata": {},
     "output_type": "display_data"
    }
   ],
   "source": [
    "#let's plot the ordered mutual_info values per feature\n",
    "mutual_info.sort_values(ascending=False).plot.bar(figsize=(20, 8))"
   ]
  },
  {
   "cell_type": "markdown",
   "metadata": {},
   "source": [
    "From the above plot we can see, VP+Manager is the most important variable"
   ]
  },
  {
   "cell_type": "markdown",
   "metadata": {},
   "source": [
    "# Models"
   ]
  },
  {
   "cell_type": "markdown",
   "metadata": {},
   "source": [
    "# Logistic Regression"
   ]
  },
  {
   "cell_type": "code",
   "execution_count": 309,
   "metadata": {},
   "outputs": [],
   "source": [
    "from sklearn.linear_model import LogisticRegression"
   ]
  },
  {
   "cell_type": "code",
   "execution_count": 310,
   "metadata": {},
   "outputs": [],
   "source": [
    "#intializing LogisticRegression to object logmodel\n",
    "\n",
    "logmodel = LogisticRegression()"
   ]
  },
  {
   "cell_type": "code",
   "execution_count": 311,
   "metadata": {},
   "outputs": [],
   "source": [
    "##Hyperparameter Optimization\n",
    "\n",
    "from sklearn.model_selection import RandomizedSearchCV\n",
    "\n",
    "# Create params\n",
    "\n",
    "params = {'penalty' : ['l1', 'l2'], \n",
    "              'C' : np.logspace(-4, 4, 20),\n",
    "              'solver' : ['liblinear','sag','saga']}"
   ]
  },
  {
   "cell_type": "code",
   "execution_count": 312,
   "metadata": {},
   "outputs": [],
   "source": [
    "log_randomcv = RandomizedSearchCV(logmodel,param_distributions=params,n_iter=5,scoring='roc_auc',n_jobs=-1,cv=5,verbose=3)"
   ]
  },
  {
   "cell_type": "code",
   "execution_count": 313,
   "metadata": {},
   "outputs": [
    {
     "name": "stdout",
     "output_type": "stream",
     "text": [
      "Fitting 5 folds for each of 5 candidates, totalling 25 fits\n"
     ]
    },
    {
     "name": "stderr",
     "output_type": "stream",
     "text": [
      "[Parallel(n_jobs=-1)]: Using backend LokyBackend with 4 concurrent workers.\n",
      "[Parallel(n_jobs=-1)]: Done  25 out of  25 | elapsed:    6.1s finished\n"
     ]
    },
    {
     "data": {
      "text/plain": [
       "RandomizedSearchCV(cv=5, estimator=LogisticRegression(), n_iter=5, n_jobs=-1,\n",
       "                   param_distributions={'C': array([1.00000000e-04, 2.63665090e-04, 6.95192796e-04, 1.83298071e-03,\n",
       "       4.83293024e-03, 1.27427499e-02, 3.35981829e-02, 8.85866790e-02,\n",
       "       2.33572147e-01, 6.15848211e-01, 1.62377674e+00, 4.28133240e+00,\n",
       "       1.12883789e+01, 2.97635144e+01, 7.84759970e+01, 2.06913808e+02,\n",
       "       5.45559478e+02, 1.43844989e+03, 3.79269019e+03, 1.00000000e+04]),\n",
       "                                        'penalty': ['l1', 'l2'],\n",
       "                                        'solver': ['liblinear', 'sag', 'saga']},\n",
       "                   scoring='roc_auc', verbose=3)"
      ]
     },
     "execution_count": 313,
     "metadata": {},
     "output_type": "execute_result"
    }
   ],
   "source": [
    "log_randomcv.fit(X_train,y_train)"
   ]
  },
  {
   "cell_type": "code",
   "execution_count": 314,
   "metadata": {},
   "outputs": [],
   "source": [
    "lg_model = log_randomcv.best_estimator_"
   ]
  },
  {
   "cell_type": "code",
   "execution_count": 315,
   "metadata": {},
   "outputs": [],
   "source": [
    "#prediction\n",
    "lg_prediction = lg_model.predict(X_test)"
   ]
  },
  {
   "cell_type": "code",
   "execution_count": 316,
   "metadata": {},
   "outputs": [],
   "source": [
    "# getting the probabilities of our predictions\n",
    "log_scores = lg_model.predict_proba(X_train)\n",
    "log_scores = log_scores[:,1]"
   ]
  },
  {
   "cell_type": "markdown",
   "metadata": {},
   "source": [
    "# Evaluation Metrics for Logistic Regression"
   ]
  },
  {
   "cell_type": "code",
   "execution_count": 317,
   "metadata": {},
   "outputs": [],
   "source": [
    "from sklearn.metrics import confusion_matrix\n",
    "from sklearn.metrics import classification_report\n",
    "from sklearn.metrics import accuracy_score"
   ]
  },
  {
   "cell_type": "code",
   "execution_count": 318,
   "metadata": {},
   "outputs": [
    {
     "name": "stdout",
     "output_type": "stream",
     "text": [
      "[[979 141]\n",
      " [292 308]]\n",
      "0.7482558139534884\n",
      "              precision    recall  f1-score   support\n",
      "\n",
      "           0       0.77      0.87      0.82      1120\n",
      "           1       0.69      0.51      0.59       600\n",
      "\n",
      "    accuracy                           0.75      1720\n",
      "   macro avg       0.73      0.69      0.70      1720\n",
      "weighted avg       0.74      0.75      0.74      1720\n",
      "\n"
     ]
    }
   ],
   "source": [
    "print(confusion_matrix(y_test,lg_prediction))\n",
    "print(accuracy_score(y_test,lg_prediction))\n",
    "print(classification_report(y_test,lg_prediction))"
   ]
  },
  {
   "cell_type": "code",
   "execution_count": 319,
   "metadata": {},
   "outputs": [
    {
     "data": {
      "text/plain": [
       "0.745782431646306"
      ]
     },
     "execution_count": 319,
     "metadata": {},
     "output_type": "execute_result"
    }
   ],
   "source": [
    "lg_model.score(X_train,y_train)"
   ]
  },
  {
   "cell_type": "code",
   "execution_count": 320,
   "metadata": {},
   "outputs": [
    {
     "data": {
      "image/png": "[encoded data removed]",
      "text/plain": [
       "<Figure size 432x288 with 2 Axes>"
      ]
     },
     "metadata": {},
     "output_type": "display_data"
    }
   ],
   "source": [
    "cf_matrix_log_reg = confusion_matrix(y_test,lg_prediction)\n",
    "labels = ['True Pos','False Pos','False Neg','True Neg']\n",
    "labels = np.asarray(labels).reshape(2,2)\n",
    "sns.heatmap(cf_matrix_log_reg, annot=labels, fmt='', cmap='Blues');"
   ]
  },
  {
   "cell_type": "code",
   "execution_count": 321,
   "metadata": {},
   "outputs": [
    {
     "name": "stdout",
     "output_type": "stream",
     "text": [
      "ROC-AUC-Score: 0.7999369176001293\n"
     ]
    }
   ],
   "source": [
    "from sklearn.metrics import roc_auc_score\n",
    "r_a_score = roc_auc_score(y_train, log_scores)\n",
    "print(\"ROC-AUC-Score:\", r_a_score)"
   ]
  },
  {
   "cell_type": "code",
   "execution_count": 322,
   "metadata": {},
   "outputs": [
    {
     "data": {
      "image/png": "[encoded data removed]",
      "text/plain": [
       "<Figure size 1008x504 with 1 Axes>"
      ]
     },
     "metadata": {},
     "output_type": "display_data"
    }
   ],
   "source": [
    "from sklearn.metrics import roc_curve\n",
    "# compute true positive rate and false positive rate\n",
    "false_positive_rate, true_positive_rate, thresholds = roc_curve(y_train, log_scores)\n",
    "# plotting them against each other\n",
    "def plot_roc_curve(false_positive_rate, true_positive_rate, label=None):\n",
    "    plt.plot(false_positive_rate, true_positive_rate, linewidth=2, label=label)\n",
    "    plt.plot([0, 1], [0, 1], 'r', linewidth=4)\n",
    "    plt.axis([0, 1, 0, 1])\n",
    "    plt.xlabel('False Positive Rate (FPR)', fontsize=16)\n",
    "    plt.ylabel('True Positive Rate (TPR)', fontsize=16)\n",
    "\n",
    "plt.figure(figsize=(14, 7))\n",
    "plot_roc_curve(false_positive_rate, true_positive_rate)\n",
    "plt.show()"
   ]
  },
  {
   "cell_type": "code",
   "execution_count": 323,
   "metadata": {},
   "outputs": [],
   "source": [
    "report = y_test.copy()\n",
    "report[\"Prediction\"]= lg_prediction\n",
    "report[\"Deal Cost\"] = X_test[\"Deal_Cost\"]"
   ]
  },
  {
   "cell_type": "code",
   "execution_count": 324,
   "metadata": {},
   "outputs": [],
   "source": [
    "true_loss_log = report[(report['Deal_Status'] == 1) & (report['Prediction'] == 0)].sum()"
   ]
  },
  {
   "cell_type": "code",
   "execution_count": 325,
   "metadata": {},
   "outputs": [
    {
     "data": {
      "text/plain": [
       "221352647.20999998"
      ]
     },
     "execution_count": 325,
     "metadata": {},
     "output_type": "execute_result"
    }
   ],
   "source": [
    "true_loss_log['Deal Cost']"
   ]
  },
  {
   "cell_type": "markdown",
   "metadata": {},
   "source": [
    "# Decision Tree"
   ]
  },
  {
   "cell_type": "code",
   "execution_count": 326,
   "metadata": {},
   "outputs": [],
   "source": [
    "from sklearn.tree import DecisionTreeClassifier"
   ]
  },
  {
   "cell_type": "code",
   "execution_count": 327,
   "metadata": {},
   "outputs": [],
   "source": [
    "decision_tree = DecisionTreeClassifier() \n",
    "decision_tree.fit(X_train, y_train)  \n",
    "DT_pred = decision_tree.predict(X_test)"
   ]
  },
  {
   "cell_type": "code",
   "execution_count": 328,
   "metadata": {},
   "outputs": [
    {
     "data": {
      "text/plain": [
       "array([0, 0, 1, ..., 0, 0, 1], dtype=int64)"
      ]
     },
     "execution_count": 328,
     "metadata": {},
     "output_type": "execute_result"
    }
   ],
   "source": [
    "DT_pred"
   ]
  },
  {
   "cell_type": "code",
   "execution_count": 329,
   "metadata": {},
   "outputs": [],
   "source": [
    "# getting the probabilities of our predictions\n",
    "dt_scores = decision_tree.predict_proba(X_train)\n",
    "dt_scores = dt_scores[:,1]"
   ]
  },
  {
   "cell_type": "code",
   "execution_count": 330,
   "metadata": {},
   "outputs": [
    {
     "data": {
      "text/html": [
       "<div>\n",
       "<style scoped>\n",
       "    .dataframe tbody tr th:only-of-type {\n",
       "        vertical-align: middle;\n",
       "    }\n",
       "\n",
       "    .dataframe tbody tr th {\n",
       "        vertical-align: top;\n",
       "    }\n",
       "\n",
       "    .dataframe thead th {\n",
       "        text-align: right;\n",
       "    }\n",
       "</style>\n",
       "<table border=\"1\" class=\"dataframe\">\n",
       "  <thead>\n",
       "    <tr style=\"text-align: right;\">\n",
       "      <th></th>\n",
       "      <th>Deal_Status</th>\n",
       "    </tr>\n",
       "  </thead>\n",
       "  <tbody>\n",
       "    <tr>\n",
       "      <th>0</th>\n",
       "      <td>0</td>\n",
       "    </tr>\n",
       "    <tr>\n",
       "      <th>1</th>\n",
       "      <td>0</td>\n",
       "    </tr>\n",
       "    <tr>\n",
       "      <th>2</th>\n",
       "      <td>1</td>\n",
       "    </tr>\n",
       "    <tr>\n",
       "      <th>3</th>\n",
       "      <td>0</td>\n",
       "    </tr>\n",
       "    <tr>\n",
       "      <th>4</th>\n",
       "      <td>0</td>\n",
       "    </tr>\n",
       "    <tr>\n",
       "      <th>...</th>\n",
       "      <td>...</td>\n",
       "    </tr>\n",
       "    <tr>\n",
       "      <th>1715</th>\n",
       "      <td>0</td>\n",
       "    </tr>\n",
       "    <tr>\n",
       "      <th>1716</th>\n",
       "      <td>1</td>\n",
       "    </tr>\n",
       "    <tr>\n",
       "      <th>1717</th>\n",
       "      <td>0</td>\n",
       "    </tr>\n",
       "    <tr>\n",
       "      <th>1718</th>\n",
       "      <td>0</td>\n",
       "    </tr>\n",
       "    <tr>\n",
       "      <th>1719</th>\n",
       "      <td>1</td>\n",
       "    </tr>\n",
       "  </tbody>\n",
       "</table>\n",
       "<p>1720 rows × 1 columns</p>\n",
       "</div>"
      ],
      "text/plain": [
       "      Deal_Status\n",
       "0               0\n",
       "1               0\n",
       "2               1\n",
       "3               0\n",
       "4               0\n",
       "...           ...\n",
       "1715            0\n",
       "1716            1\n",
       "1717            0\n",
       "1718            0\n",
       "1719            1\n",
       "\n",
       "[1720 rows x 1 columns]"
      ]
     },
     "execution_count": 330,
     "metadata": {},
     "output_type": "execute_result"
    }
   ],
   "source": [
    "y_test"
   ]
  },
  {
   "cell_type": "markdown",
   "metadata": {},
   "source": [
    "#  Evaluation Metrics for Decision Tree"
   ]
  },
  {
   "cell_type": "code",
   "execution_count": 331,
   "metadata": {},
   "outputs": [
    {
     "name": "stdout",
     "output_type": "stream",
     "text": [
      "[[1056   64]\n",
      " [ 209  391]]\n",
      "0.8412790697674418\n",
      "              precision    recall  f1-score   support\n",
      "\n",
      "           0       0.83      0.94      0.89      1120\n",
      "           1       0.86      0.65      0.74       600\n",
      "\n",
      "    accuracy                           0.84      1720\n",
      "   macro avg       0.85      0.80      0.81      1720\n",
      "weighted avg       0.84      0.84      0.84      1720\n",
      "\n"
     ]
    }
   ],
   "source": [
    "print(confusion_matrix(y_test,DT_pred))\n",
    "print(accuracy_score(y_test,DT_pred))\n",
    "print(classification_report(y_test,DT_pred))"
   ]
  },
  {
   "cell_type": "code",
   "execution_count": 332,
   "metadata": {},
   "outputs": [
    {
     "data": {
      "text/plain": [
       "0.997673065735893"
      ]
     },
     "execution_count": 332,
     "metadata": {},
     "output_type": "execute_result"
    }
   ],
   "source": [
    "decision_tree.score(X_train,y_train)"
   ]
  },
  {
   "cell_type": "code",
   "execution_count": 333,
   "metadata": {},
   "outputs": [
    {
     "data": {
      "image/png": "[encoded data removed]",
      "text/plain": [
       "<Figure size 432x288 with 2 Axes>"
      ]
     },
     "metadata": {},
     "output_type": "display_data"
    }
   ],
   "source": [
    "cf_matrix_dt = confusion_matrix(y_test,DT_pred)\n",
    "labels = ['True Pos','False Pos','False Neg','True Neg']\n",
    "labels = np.asarray(labels).reshape(2,2)\n",
    "sns.heatmap(cf_matrix_dt, annot=labels, fmt='', cmap='Blues');"
   ]
  },
  {
   "cell_type": "code",
   "execution_count": 334,
   "metadata": {},
   "outputs": [
    {
     "name": "stdout",
     "output_type": "stream",
     "text": [
      "ROC-AUC-Score: 0.9999849981294251\n"
     ]
    }
   ],
   "source": [
    "from sklearn.metrics import roc_auc_score\n",
    "r_a_score = roc_auc_score(y_train, dt_scores)\n",
    "print(\"ROC-AUC-Score:\", r_a_score)"
   ]
  },
  {
   "cell_type": "code",
   "execution_count": 335,
   "metadata": {},
   "outputs": [
    {
     "data": {
      "image/png": "[encoded data removed]",
      "text/plain": [
       "<Figure size 1008x504 with 1 Axes>"
      ]
     },
     "metadata": {},
     "output_type": "display_data"
    }
   ],
   "source": [
    "from sklearn.metrics import roc_curve\n",
    "# compute true positive rate and false positive rate\n",
    "false_positive_rate, true_positive_rate, thresholds = roc_curve(y_train, dt_scores)\n",
    "# plotting them against each other\n",
    "def plot_roc_curve(false_positive_rate, true_positive_rate, label=None):\n",
    "    plt.plot(false_positive_rate, true_positive_rate, linewidth=2, label=label)\n",
    "    plt.plot([0, 1], [0, 1], 'r', linewidth=4)\n",
    "    plt.axis([0, 1, 0, 1])\n",
    "    plt.xlabel('False Positive Rate (FPR)', fontsize=16)\n",
    "    plt.ylabel('True Positive Rate (TPR)', fontsize=16)\n",
    "\n",
    "plt.figure(figsize=(14, 7))\n",
    "plot_roc_curve(false_positive_rate, true_positive_rate)\n",
    "plt.show()"
   ]
  },
  {
   "cell_type": "code",
   "execution_count": 336,
   "metadata": {},
   "outputs": [],
   "source": [
    "report = y_test.copy()\n",
    "report[\"Prediction\"]= DT_pred\n",
    "report[\"Deal Cost\"] = X_test[\"Deal_Cost\"]"
   ]
  },
  {
   "cell_type": "code",
   "execution_count": 337,
   "metadata": {},
   "outputs": [
    {
     "data": {
      "text/plain": [
       "135801470.64999998"
      ]
     },
     "execution_count": 337,
     "metadata": {},
     "output_type": "execute_result"
    }
   ],
   "source": [
    "true_loss_dt = report[(report['Deal_Status'] == 1) & (report['Prediction'] == 0)].sum()\n",
    "true_loss_dt['Deal Cost']"
   ]
  },
  {
   "cell_type": "markdown",
   "metadata": {},
   "source": [
    "# XGBoost"
   ]
  },
  {
   "cell_type": "code",
   "execution_count": 103,
   "metadata": {},
   "outputs": [],
   "source": [
    "import xgboost\n",
    "from sklearn.model_selection import RandomizedSearchCV\n",
    "classifier=xgboost.XGBClassifier()"
   ]
  },
  {
   "cell_type": "code",
   "execution_count": 104,
   "metadata": {},
   "outputs": [],
   "source": [
    "params={\n",
    " \"learning_rate\"    : [0.05, 0.10, 0.15, 0.20, 0.25, 0.30 ] ,\n",
    " \"max_depth\"        : [ 3, 4, 5, 6, 8, 10, 12, 15],\n",
    " \"min_child_weight\" : [ 1, 3, 5, 7 ],\n",
    " \"gamma\"            : [ 0.0, 0.1, 0.2 , 0.3, 0.4 ],\n",
    " \"colsample_bytree\" : [ 0.3, 0.4, 0.5 , 0.7 ]\n",
    "    \n",
    "}"
   ]
  },
  {
   "cell_type": "code",
   "execution_count": 105,
   "metadata": {},
   "outputs": [],
   "source": [
    "xg_randomcv = RandomizedSearchCV(classifier,param_distributions=params,n_iter=5,scoring='roc_auc',n_jobs=-1,cv=5,verbose=3)"
   ]
  },
  {
   "cell_type": "code",
   "execution_count": 106,
   "metadata": {},
   "outputs": [
    {
     "name": "stdout",
     "output_type": "stream",
     "text": [
      "Fitting 5 folds for each of 5 candidates, totalling 25 fits\n",
      "[11:56:41] WARNING: C:/Users/Administrator/workspace/xgboost-win64_release_1.4.0/src/learner.cc:1095: Starting in XGBoost 1.3.0, the default evaluation metric used with the objective 'binary:logistic' was changed from 'error' to 'logloss'. Explicitly set eval_metric if you'd like to restore the old behavior.\n"
     ]
    },
    {
     "data": {
      "text/plain": [
       "RandomizedSearchCV(cv=5,\n",
       "                   estimator=XGBClassifier(base_score=None, booster=None,\n",
       "                                           colsample_bylevel=None,\n",
       "                                           colsample_bynode=None,\n",
       "                                           colsample_bytree=None, gamma=None,\n",
       "                                           gpu_id=None, importance_type='gain',\n",
       "                                           interaction_constraints=None,\n",
       "                                           learning_rate=None,\n",
       "                                           max_delta_step=None, max_depth=None,\n",
       "                                           min_child_weight=None, missing=nan,\n",
       "                                           monotone_constraints=None,\n",
       "                                           n_estimators=100,...\n",
       "                                           reg_lambda=None,\n",
       "                                           scale_pos_weight=None,\n",
       "                                           subsample=None, tree_method=None,\n",
       "                                           validate_parameters=None,\n",
       "                                           verbosity=None),\n",
       "                   n_iter=5, n_jobs=-1,\n",
       "                   param_distributions={'colsample_bytree': [0.3, 0.4, 0.5,\n",
       "                                                             0.7],\n",
       "                                        'gamma': [0.0, 0.1, 0.2, 0.3, 0.4],\n",
       "                                        'learning_rate': [0.05, 0.1, 0.15, 0.2,\n",
       "                                                          0.25, 0.3],\n",
       "                                        'max_depth': [3, 4, 5, 6, 8, 10, 12,\n",
       "                                                      15],\n",
       "                                        'min_child_weight': [1, 3, 5, 7]},\n",
       "                   scoring='roc_auc', verbose=3)"
      ]
     },
     "execution_count": 106,
     "metadata": {},
     "output_type": "execute_result"
    }
   ],
   "source": [
    "xg_randomcv.fit(X_train,y_train)"
   ]
  },
  {
   "cell_type": "code",
   "execution_count": 107,
   "metadata": {},
   "outputs": [],
   "source": [
    "#best model from random search cv\n",
    "xg_model = xg_randomcv.best_estimator_"
   ]
  },
  {
   "cell_type": "code",
   "execution_count": 117,
   "metadata": {},
   "outputs": [
    {
     "data": {
      "text/html": [
       "<div>\n",
       "<style scoped>\n",
       "    .dataframe tbody tr th:only-of-type {\n",
       "        vertical-align: middle;\n",
       "    }\n",
       "\n",
       "    .dataframe tbody tr th {\n",
       "        vertical-align: top;\n",
       "    }\n",
       "\n",
       "    .dataframe thead th {\n",
       "        text-align: right;\n",
       "    }\n",
       "</style>\n",
       "<table border=\"1\" class=\"dataframe\">\n",
       "  <thead>\n",
       "    <tr style=\"text-align: right;\">\n",
       "      <th></th>\n",
       "      <th>Client_Category</th>\n",
       "      <th>Solution_Type</th>\n",
       "      <th>Sector</th>\n",
       "      <th>Location</th>\n",
       "      <th>Deal_Cost</th>\n",
       "      <th>VP+Manager</th>\n",
       "    </tr>\n",
       "  </thead>\n",
       "  <tbody>\n",
       "    <tr>\n",
       "      <th>6680</th>\n",
       "      <td>23</td>\n",
       "      <td>42</td>\n",
       "      <td>17</td>\n",
       "      <td>3</td>\n",
       "      <td>141176.47</td>\n",
       "      <td>314</td>\n",
       "    </tr>\n",
       "    <tr>\n",
       "      <th>9365</th>\n",
       "      <td>23</td>\n",
       "      <td>44</td>\n",
       "      <td>18</td>\n",
       "      <td>3</td>\n",
       "      <td>1470.59</td>\n",
       "      <td>62</td>\n",
       "    </tr>\n",
       "    <tr>\n",
       "      <th>1060</th>\n",
       "      <td>13</td>\n",
       "      <td>28</td>\n",
       "      <td>13</td>\n",
       "      <td>2</td>\n",
       "      <td>205882.35</td>\n",
       "      <td>546</td>\n",
       "    </tr>\n",
       "    <tr>\n",
       "      <th>799</th>\n",
       "      <td>25</td>\n",
       "      <td>28</td>\n",
       "      <td>18</td>\n",
       "      <td>6</td>\n",
       "      <td>441176.47</td>\n",
       "      <td>357</td>\n",
       "    </tr>\n",
       "    <tr>\n",
       "      <th>7188</th>\n",
       "      <td>25</td>\n",
       "      <td>46</td>\n",
       "      <td>14</td>\n",
       "      <td>12</td>\n",
       "      <td>735294.12</td>\n",
       "      <td>522</td>\n",
       "    </tr>\n",
       "  </tbody>\n",
       "</table>\n",
       "</div>"
      ],
      "text/plain": [
       "      Client_Category  Solution_Type  Sector  Location  Deal_Cost  VP+Manager\n",
       "6680               23             42      17         3  141176.47         314\n",
       "9365               23             44      18         3    1470.59          62\n",
       "1060               13             28      13         2  205882.35         546\n",
       "799                25             28      18         6  441176.47         357\n",
       "7188               25             46      14        12  735294.12         522"
      ]
     },
     "execution_count": 117,
     "metadata": {},
     "output_type": "execute_result"
    }
   ],
   "source": [
    "X_test.head()"
   ]
  },
  {
   "cell_type": "code",
   "execution_count": 108,
   "metadata": {},
   "outputs": [],
   "source": [
    "#making prediction\n",
    "xg_predictions = xg_model.predict(X_test)"
   ]
  },
  {
   "cell_type": "code",
   "execution_count": 109,
   "metadata": {},
   "outputs": [
    {
     "data": {
      "text/plain": [
       "array([0, 0, 0, ..., 0, 0, 0], dtype=int64)"
      ]
     },
     "execution_count": 109,
     "metadata": {},
     "output_type": "execute_result"
    }
   ],
   "source": [
    "xg_predictions"
   ]
  },
  {
   "cell_type": "code",
   "execution_count": 110,
   "metadata": {},
   "outputs": [],
   "source": [
    "# getting the probabilities of our predictions\n",
    "xg_scores = xg_model.predict_proba(X_train)\n",
    "xg_scores = xg_scores[:,1]"
   ]
  },
  {
   "cell_type": "markdown",
   "metadata": {},
   "source": [
    " # Evaluation Metrics for XGBoost"
   ]
  },
  {
   "cell_type": "code",
   "execution_count": 112,
   "metadata": {},
   "outputs": [
    {
     "name": "stdout",
     "output_type": "stream",
     "text": [
      "[[1019  101]\n",
      " [ 219  381]]\n",
      "0.813953488372093\n",
      "              precision    recall  f1-score   support\n",
      "\n",
      "           0       0.82      0.91      0.86      1120\n",
      "           1       0.79      0.64      0.70       600\n",
      "\n",
      "    accuracy                           0.81      1720\n",
      "   macro avg       0.81      0.77      0.78      1720\n",
      "weighted avg       0.81      0.81      0.81      1720\n",
      "\n"
     ]
    }
   ],
   "source": [
    "from sklearn.metrics import confusion_matrix, accuracy_score, classification_report\n",
    "\n",
    "print(confusion_matrix(y_test,xg_predictions))\n",
    "print(accuracy_score(y_test,xg_predictions))\n",
    "print(classification_report(y_test,xg_predictions))"
   ]
  },
  {
   "cell_type": "code",
   "execution_count": 113,
   "metadata": {},
   "outputs": [
    {
     "data": {
      "text/plain": [
       "0.8864165212332752"
      ]
     },
     "execution_count": 113,
     "metadata": {},
     "output_type": "execute_result"
    }
   ],
   "source": [
    "xg_model.score(X_train,y_train)"
   ]
  },
  {
   "cell_type": "code",
   "execution_count": 114,
   "metadata": {},
   "outputs": [
    {
     "data": {
      "image/png": "[encoded data removed]",
      "text/plain": [
       "<Figure size 432x288 with 2 Axes>"
      ]
     },
     "metadata": {},
     "output_type": "display_data"
    }
   ],
   "source": [
    "cf_matrix_xgboost = confusion_matrix(y_test,xg_predictions)\n",
    "labels = ['True Pos','False Pos','False Neg','True Neg']\n",
    "labels = np.asarray(labels).reshape(2,2)\n",
    "sns.heatmap(cf_matrix_xgboost, annot=labels, fmt='', cmap='Blues');"
   ]
  },
  {
   "cell_type": "code",
   "execution_count": 115,
   "metadata": {},
   "outputs": [
    {
     "name": "stdout",
     "output_type": "stream",
     "text": [
      "ROC-AUC-Score: 0.9513469769600154\n"
     ]
    }
   ],
   "source": [
    "from sklearn.metrics import roc_auc_score\n",
    "r_a_score = roc_auc_score(y_train, xg_scores)\n",
    "print(\"ROC-AUC-Score:\", r_a_score)"
   ]
  },
  {
   "cell_type": "code",
   "execution_count": 116,
   "metadata": {},
   "outputs": [
    {
     "data": {
      "image/png": "[encoded data removed]",
      "text/plain": [
       "<Figure size 1008x504 with 1 Axes>"
      ]
     },
     "metadata": {},
     "output_type": "display_data"
    }
   ],
   "source": [
    "from sklearn.metrics import roc_curve\n",
    "# compute true positive rate and false positive rate\n",
    "false_positive_rate, true_positive_rate, thresholds = roc_curve(y_train, xg_scores)\n",
    "# plotting them against each other\n",
    "def plot_roc_curve(false_positive_rate, true_positive_rate, label=None):\n",
    "    plt.plot(false_positive_rate, true_positive_rate, linewidth=2, label=label)\n",
    "    plt.plot([0, 1], [0, 1], 'r', linewidth=4)\n",
    "    plt.axis([0, 1, 0, 1])\n",
    "    plt.xlabel('False Positive Rate (FPR)', fontsize=16)\n",
    "    plt.ylabel('True Positive Rate (TPR)', fontsize=16)\n",
    "\n",
    "plt.figure(figsize=(14, 7))\n",
    "plot_roc_curve(false_positive_rate, true_positive_rate)\n",
    "plt.show()"
   ]
  },
  {
   "cell_type": "code",
   "execution_count": 351,
   "metadata": {},
   "outputs": [],
   "source": [
    "report = y_test.copy()\n",
    "report[\"Prediction\"]= xg_predictions\n",
    "report[\"Deal Cost\"] = X_test[\"Deal_Cost\"]"
   ]
  },
  {
   "cell_type": "code",
   "execution_count": 352,
   "metadata": {},
   "outputs": [
    {
     "data": {
      "text/plain": [
       "135965000.11"
      ]
     },
     "execution_count": 352,
     "metadata": {},
     "output_type": "execute_result"
    }
   ],
   "source": [
    "true_loss_xg = report[(report['Deal_Status'] == 1) & (report['Prediction'] == 0)].sum()\n",
    "true_loss_xg['Deal Cost']"
   ]
  },
  {
   "cell_type": "markdown",
   "metadata": {},
   "source": [
    "# Random Forest"
   ]
  },
  {
   "cell_type": "code",
   "execution_count": 134,
   "metadata": {},
   "outputs": [],
   "source": [
    "from sklearn.ensemble import RandomForestClassifier"
   ]
  },
  {
   "cell_type": "code",
   "execution_count": 135,
   "metadata": {},
   "outputs": [],
   "source": [
    "random_forest = RandomForestClassifier(n_estimators=100)\n",
    "random_forest.fit(X_train, y_train)\n",
    "\n",
    "rf_prediction = random_forest.predict(X_test)\n",
    "acc_random_forest = round(random_forest.score(X_train, y_train) * 100, 2)"
   ]
  },
  {
   "cell_type": "code",
   "execution_count": 136,
   "metadata": {},
   "outputs": [],
   "source": [
    "# getting the probabilities of our predictions\n",
    "rf_scores = random_forest.predict_proba(X_train)\n",
    "rf_scores = rf_scores[:,1]"
   ]
  },
  {
   "cell_type": "markdown",
   "metadata": {},
   "source": [
    "# Evaluation Metrics for Random Forest"
   ]
  },
  {
   "cell_type": "code",
   "execution_count": 137,
   "metadata": {},
   "outputs": [
    {
     "name": "stdout",
     "output_type": "stream",
     "text": [
      "[[1071   49]\n",
      " [ 221  379]]\n",
      "0.8430232558139535\n",
      "              precision    recall  f1-score   support\n",
      "\n",
      "           0       0.83      0.96      0.89      1120\n",
      "           1       0.89      0.63      0.74       600\n",
      "\n",
      "    accuracy                           0.84      1720\n",
      "   macro avg       0.86      0.79      0.81      1720\n",
      "weighted avg       0.85      0.84      0.84      1720\n",
      "\n"
     ]
    }
   ],
   "source": [
    "print(confusion_matrix(y_test,rf_prediction))\n",
    "print(accuracy_score(y_test,rf_prediction))\n",
    "print(classification_report(y_test,rf_prediction))"
   ]
  },
  {
   "cell_type": "code",
   "execution_count": 138,
   "metadata": {},
   "outputs": [
    {
     "data": {
      "text/plain": [
       "0.997673065735893"
      ]
     },
     "execution_count": 138,
     "metadata": {},
     "output_type": "execute_result"
    }
   ],
   "source": [
    "random_forest.score(X_train, y_train)"
   ]
  },
  {
   "cell_type": "code",
   "execution_count": 139,
   "metadata": {},
   "outputs": [
    {
     "data": {
      "image/png": "[encoded data removed]",
      "text/plain": [
       "<Figure size 432x288 with 2 Axes>"
      ]
     },
     "metadata": {},
     "output_type": "display_data"
    }
   ],
   "source": [
    "cf_matrix_ran_for = confusion_matrix(y_test,rf_prediction)\n",
    "labels = ['True Pos','False Pos','False Neg','True Neg']\n",
    "labels = np.asarray(labels).reshape(2,2)\n",
    "sns.heatmap(cf_matrix_ran_for, annot=labels, fmt='', cmap='Blues');"
   ]
  },
  {
   "cell_type": "code",
   "execution_count": 140,
   "metadata": {},
   "outputs": [
    {
     "name": "stdout",
     "output_type": "stream",
     "text": [
      "ROC-AUC-Score: 0.9999679463138028\n"
     ]
    }
   ],
   "source": [
    "from sklearn.metrics import roc_auc_score\n",
    "r_a_score = roc_auc_score(y_train, rf_scores)\n",
    "print(\"ROC-AUC-Score:\", r_a_score)"
   ]
  },
  {
   "cell_type": "code",
   "execution_count": 141,
   "metadata": {},
   "outputs": [
    {
     "data": {
      "image/png": "[encoded data removed]",
      "text/plain": [
       "<Figure size 1008x504 with 1 Axes>"
      ]
     },
     "metadata": {},
     "output_type": "display_data"
    }
   ],
   "source": [
    "from sklearn.metrics import roc_curve\n",
    "# compute true positive rate and false positive rate\n",
    "false_positive_rate, true_positive_rate, thresholds = roc_curve(y_train, rf_scores)\n",
    "# plotting them against each other\n",
    "def plot_roc_curve(false_positive_rate, true_positive_rate, label=None):\n",
    "    plt.plot(false_positive_rate, true_positive_rate, linewidth=2, label=label)\n",
    "    plt.plot([0, 1], [0, 1], 'r', linewidth=4)\n",
    "    plt.axis([0, 1, 0, 1])\n",
    "    plt.xlabel('False Positive Rate (FPR)', fontsize=16)\n",
    "    plt.ylabel('True Positive Rate (TPR)', fontsize=16)\n",
    "\n",
    "plt.figure(figsize=(14, 7))\n",
    "plot_roc_curve(false_positive_rate, true_positive_rate)\n",
    "plt.show()"
   ]
  },
  {
   "cell_type": "code",
   "execution_count": 361,
   "metadata": {},
   "outputs": [],
   "source": [
    "report = y_test.copy()\n",
    "report[\"Prediction\"]= rf_prediction\n",
    "report[\"Deal Cost\"] = X_test[\"Deal_Cost\"]"
   ]
  },
  {
   "cell_type": "code",
   "execution_count": 362,
   "metadata": {},
   "outputs": [
    {
     "data": {
      "text/plain": [
       "143135294.19"
      ]
     },
     "execution_count": 362,
     "metadata": {},
     "output_type": "execute_result"
    }
   ],
   "source": [
    "true_loss_rf = report[(report['Deal_Status'] == 1) & (report['Prediction'] == 0)].sum()\n",
    "true_loss_rf['Deal Cost']"
   ]
  },
  {
   "cell_type": "markdown",
   "metadata": {},
   "source": [
    "# Comparison of Models"
   ]
  },
  {
   "cell_type": "code",
   "execution_count": 363,
   "metadata": {},
   "outputs": [],
   "source": [
    "comp_col = [\"Model Name\",\"Accuracy\",\"Precision (Weighted)\",\"True Loss\"]\n"
   ]
  },
  {
   "cell_type": "code",
   "execution_count": 364,
   "metadata": {},
   "outputs": [],
   "source": [
    "Model_Name = ['Logistic Regression','Decision Tree', 'XGBoost','Random Forest']"
   ]
  },
  {
   "cell_type": "code",
   "execution_count": 365,
   "metadata": {},
   "outputs": [],
   "source": [
    "Accuracy = [round(lg_model.score(X_test, y_test),2),round(decision_tree.score(X_test, y_test),2),\n",
    "            round(xg_model.score(X_test, y_test),2),round(random_forest.score(X_test, y_test),2)]"
   ]
  },
  {
   "cell_type": "code",
   "execution_count": 366,
   "metadata": {},
   "outputs": [],
   "source": [
    "Precision = [round(precision_recall_fscore_support(y_test, lg_prediction, average='weighted')[0],2),\n",
    "               round(precision_recall_fscore_support(y_test, DT_pred, average='weighted')[0],2),\n",
    "               round(precision_recall_fscore_support(y_test, xg_predictions, average='weighted')[0],2),\n",
    "               round(precision_recall_fscore_support(y_test, rf_prediction, average='weighted')[0],2)]"
   ]
  },
  {
   "cell_type": "code",
   "execution_count": 367,
   "metadata": {},
   "outputs": [],
   "source": [
    "True_Loss = [true_loss_log['Deal Cost'],true_loss_dt['Deal Cost'],true_loss_xg['Deal Cost'],true_loss_rf['Deal Cost']]"
   ]
  },
  {
   "cell_type": "code",
   "execution_count": 368,
   "metadata": {},
   "outputs": [],
   "source": [
    "comp = (Model_Name,Accuracy,Precision,True_Loss)"
   ]
  },
  {
   "cell_type": "code",
   "execution_count": 369,
   "metadata": {},
   "outputs": [],
   "source": [
    "comp_df = pd.DataFrame(comp,)"
   ]
  },
  {
   "cell_type": "code",
   "execution_count": 370,
   "metadata": {},
   "outputs": [],
   "source": [
    "comparison_df = pd.DataFrame(data=list(zip(Model_Name, Accuracy,Precision,True_Loss)),columns=comp_col)"
   ]
  },
  {
   "cell_type": "code",
   "execution_count": 371,
   "metadata": {},
   "outputs": [
    {
     "data": {
      "text/html": [
       "<div>\n",
       "<style scoped>\n",
       "    .dataframe tbody tr th:only-of-type {\n",
       "        vertical-align: middle;\n",
       "    }\n",
       "\n",
       "    .dataframe tbody tr th {\n",
       "        vertical-align: top;\n",
       "    }\n",
       "\n",
       "    .dataframe thead th {\n",
       "        text-align: right;\n",
       "    }\n",
       "</style>\n",
       "<table border=\"1\" class=\"dataframe\">\n",
       "  <thead>\n",
       "    <tr style=\"text-align: right;\">\n",
       "      <th></th>\n",
       "      <th>Model Name</th>\n",
       "      <th>Accuracy</th>\n",
       "      <th>Precision (Weighted)</th>\n",
       "      <th>True Loss</th>\n",
       "    </tr>\n",
       "  </thead>\n",
       "  <tbody>\n",
       "    <tr>\n",
       "      <th>0</th>\n",
       "      <td>Logistic Regression</td>\n",
       "      <td>0.75</td>\n",
       "      <td>0.74</td>\n",
       "      <td>2.213526e+08</td>\n",
       "    </tr>\n",
       "    <tr>\n",
       "      <th>1</th>\n",
       "      <td>Decision Tree</td>\n",
       "      <td>0.84</td>\n",
       "      <td>0.84</td>\n",
       "      <td>1.358015e+08</td>\n",
       "    </tr>\n",
       "    <tr>\n",
       "      <th>2</th>\n",
       "      <td>XGBoost</td>\n",
       "      <td>0.85</td>\n",
       "      <td>0.85</td>\n",
       "      <td>1.359650e+08</td>\n",
       "    </tr>\n",
       "    <tr>\n",
       "      <th>3</th>\n",
       "      <td>Random Forest</td>\n",
       "      <td>0.84</td>\n",
       "      <td>0.85</td>\n",
       "      <td>1.431353e+08</td>\n",
       "    </tr>\n",
       "  </tbody>\n",
       "</table>\n",
       "</div>"
      ],
      "text/plain": [
       "            Model Name  Accuracy  Precision (Weighted)     True Loss\n",
       "0  Logistic Regression      0.75                  0.74  2.213526e+08\n",
       "1        Decision Tree      0.84                  0.84  1.358015e+08\n",
       "2              XGBoost      0.85                  0.85  1.359650e+08\n",
       "3        Random Forest      0.84                  0.85  1.431353e+08"
      ]
     },
     "execution_count": 371,
     "metadata": {},
     "output_type": "execute_result"
    }
   ],
   "source": [
    "comparison_df"
   ]
  },
  {
   "cell_type": "markdown",
   "metadata": {},
   "source": [
    "# Conclusion"
   ]
  },
  {
   "cell_type": "markdown",
   "metadata": {},
   "source": [
    "As we can see from the above Table, Accuracy and Precision for all the models is near to 85%, except for logistic regression.\n",
    "\n",
    "We can see that the least True Loss if observed from XGBoost"
   ]
  },
  {
   "cell_type": "markdown",
   "metadata": {},
   "source": [
    "# Prescriptive Analysis"
   ]
  },
  {
   "cell_type": "code",
   "execution_count": 372,
   "metadata": {},
   "outputs": [
    {
     "data": {
      "text/html": [
       "<div>\n",
       "<style scoped>\n",
       "    .dataframe tbody tr th:only-of-type {\n",
       "        vertical-align: middle;\n",
       "    }\n",
       "\n",
       "    .dataframe tbody tr th {\n",
       "        vertical-align: top;\n",
       "    }\n",
       "\n",
       "    .dataframe thead th {\n",
       "        text-align: right;\n",
       "    }\n",
       "</style>\n",
       "<table border=\"1\" class=\"dataframe\">\n",
       "  <thead>\n",
       "    <tr style=\"text-align: right;\">\n",
       "      <th></th>\n",
       "      <th>Client_Category</th>\n",
       "      <th>Solution_Type</th>\n",
       "      <th>Sector</th>\n",
       "      <th>Location</th>\n",
       "      <th>Deal_Cost</th>\n",
       "      <th>Deal_Status</th>\n",
       "      <th>VP+Manager</th>\n",
       "    </tr>\n",
       "  </thead>\n",
       "  <tbody>\n",
       "    <tr>\n",
       "      <th>0</th>\n",
       "      <td>Telecom</td>\n",
       "      <td>Solution 7</td>\n",
       "      <td>Sector 24</td>\n",
       "      <td>L5</td>\n",
       "      <td>150000.00</td>\n",
       "      <td>1</td>\n",
       "      <td>Ekta Zutshi Gopa Trilochana</td>\n",
       "    </tr>\n",
       "    <tr>\n",
       "      <th>1</th>\n",
       "      <td>Telecom</td>\n",
       "      <td>Solution 7</td>\n",
       "      <td>Sector 24</td>\n",
       "      <td>L5</td>\n",
       "      <td>744705.88</td>\n",
       "      <td>1</td>\n",
       "      <td>Ekta Zutshi Gopa Trilochana</td>\n",
       "    </tr>\n",
       "    <tr>\n",
       "      <th>7</th>\n",
       "      <td>Govt</td>\n",
       "      <td>Solution 7</td>\n",
       "      <td>Sector 13</td>\n",
       "      <td>L5</td>\n",
       "      <td>409705.88</td>\n",
       "      <td>0</td>\n",
       "      <td>Sargar Deep Rao Vidur Hukle</td>\n",
       "    </tr>\n",
       "    <tr>\n",
       "      <th>8</th>\n",
       "      <td>Consumer Good</td>\n",
       "      <td>Solution 42</td>\n",
       "      <td>Sector 12</td>\n",
       "      <td>L10</td>\n",
       "      <td>1032352.94</td>\n",
       "      <td>1</td>\n",
       "      <td>Lilli Storrs Md. Daud</td>\n",
       "    </tr>\n",
       "    <tr>\n",
       "      <th>10</th>\n",
       "      <td>International Bank</td>\n",
       "      <td>Solution 6</td>\n",
       "      <td>Sector 2</td>\n",
       "      <td>L10</td>\n",
       "      <td>316176.47</td>\n",
       "      <td>1</td>\n",
       "      <td>Long Bergstrom Luv Malhotra</td>\n",
       "    </tr>\n",
       "  </tbody>\n",
       "</table>\n",
       "</div>"
      ],
      "text/plain": [
       "       Client_Category Solution_Type     Sector Location   Deal_Cost  \\\n",
       "0              Telecom    Solution 7  Sector 24       L5   150000.00   \n",
       "1              Telecom    Solution 7  Sector 24       L5   744705.88   \n",
       "7                 Govt    Solution 7  Sector 13       L5   409705.88   \n",
       "8        Consumer Good   Solution 42  Sector 12      L10  1032352.94   \n",
       "10  International Bank    Solution 6   Sector 2      L10   316176.47   \n",
       "\n",
       "    Deal_Status                   VP+Manager  \n",
       "0             1  Ekta Zutshi Gopa Trilochana  \n",
       "1             1  Ekta Zutshi Gopa Trilochana  \n",
       "7             0  Sargar Deep Rao Vidur Hukle  \n",
       "8             1        Lilli Storrs Md. Daud  \n",
       "10            1  Long Bergstrom Luv Malhotra  "
      ]
     },
     "execution_count": 372,
     "metadata": {},
     "output_type": "execute_result"
    }
   ],
   "source": [
    "#immporting Original df\n",
    "org_df.head()"
   ]
  },
  {
   "cell_type": "code",
   "execution_count": 373,
   "metadata": {},
   "outputs": [],
   "source": [
    "#Calculating total no. of deals for each VP+Manager pair and converting it to a dataframe\n",
    "new_df=pd.DataFrame({'VP+Manager':org_df['VP+Manager'].value_counts().index, 'total_deals':org_df['VP+Manager'].value_counts().values})"
   ]
  },
  {
   "cell_type": "code",
   "execution_count": 374,
   "metadata": {},
   "outputs": [
    {
     "data": {
      "text/html": [
       "<div>\n",
       "<style scoped>\n",
       "    .dataframe tbody tr th:only-of-type {\n",
       "        vertical-align: middle;\n",
       "    }\n",
       "\n",
       "    .dataframe tbody tr th {\n",
       "        vertical-align: top;\n",
       "    }\n",
       "\n",
       "    .dataframe thead th {\n",
       "        text-align: right;\n",
       "    }\n",
       "</style>\n",
       "<table border=\"1\" class=\"dataframe\">\n",
       "  <thead>\n",
       "    <tr style=\"text-align: right;\">\n",
       "      <th></th>\n",
       "      <th>VP+Manager</th>\n",
       "      <th>total_deals</th>\n",
       "    </tr>\n",
       "  </thead>\n",
       "  <tbody>\n",
       "    <tr>\n",
       "      <th>0</th>\n",
       "      <td>Rahul Bajpai Rudraksh Sharma</td>\n",
       "      <td>197</td>\n",
       "    </tr>\n",
       "    <tr>\n",
       "      <th>1</th>\n",
       "      <td>Long Bergstrom Jewell Tunstall</td>\n",
       "      <td>118</td>\n",
       "    </tr>\n",
       "    <tr>\n",
       "      <th>2</th>\n",
       "      <td>Sargar Deep Rao Manpreet Singh</td>\n",
       "      <td>114</td>\n",
       "    </tr>\n",
       "    <tr>\n",
       "      <th>3</th>\n",
       "      <td>Ankita Aggarwal Desmond Krout</td>\n",
       "      <td>114</td>\n",
       "    </tr>\n",
       "    <tr>\n",
       "      <th>4</th>\n",
       "      <td>Ankita Aggarwal Manish Saundriyal</td>\n",
       "      <td>108</td>\n",
       "    </tr>\n",
       "    <tr>\n",
       "      <th>...</th>\n",
       "      <td>...</td>\n",
       "      <td>...</td>\n",
       "    </tr>\n",
       "    <tr>\n",
       "      <th>892</th>\n",
       "      <td>Jewell Tunstall pooran chand</td>\n",
       "      <td>1</td>\n",
       "    </tr>\n",
       "    <tr>\n",
       "      <th>893</th>\n",
       "      <td>Gopa Trilochana Anmol Mehre</td>\n",
       "      <td>1</td>\n",
       "    </tr>\n",
       "    <tr>\n",
       "      <th>894</th>\n",
       "      <td>Varsha Arora Rahul Singh</td>\n",
       "      <td>1</td>\n",
       "    </tr>\n",
       "    <tr>\n",
       "      <th>895</th>\n",
       "      <td>Man Suddeth kailash kumar</td>\n",
       "      <td>1</td>\n",
       "    </tr>\n",
       "    <tr>\n",
       "      <th>896</th>\n",
       "      <td>Long Bergstrom Marcelo Riles</td>\n",
       "      <td>1</td>\n",
       "    </tr>\n",
       "  </tbody>\n",
       "</table>\n",
       "<p>897 rows × 2 columns</p>\n",
       "</div>"
      ],
      "text/plain": [
       "                            VP+Manager  total_deals\n",
       "0         Rahul Bajpai Rudraksh Sharma          197\n",
       "1       Long Bergstrom Jewell Tunstall          118\n",
       "2       Sargar Deep Rao Manpreet Singh          114\n",
       "3        Ankita Aggarwal Desmond Krout          114\n",
       "4    Ankita Aggarwal Manish Saundriyal          108\n",
       "..                                 ...          ...\n",
       "892       Jewell Tunstall pooran chand            1\n",
       "893        Gopa Trilochana Anmol Mehre            1\n",
       "894           Varsha Arora Rahul Singh            1\n",
       "895          Man Suddeth kailash kumar            1\n",
       "896       Long Bergstrom Marcelo Riles            1\n",
       "\n",
       "[897 rows x 2 columns]"
      ]
     },
     "execution_count": 374,
     "metadata": {},
     "output_type": "execute_result"
    }
   ],
   "source": [
    "new_df"
   ]
  },
  {
   "cell_type": "code",
   "execution_count": 375,
   "metadata": {},
   "outputs": [],
   "source": [
    "#Selecting the Won Data\n",
    "won_data=org_df.loc[org_df['Deal_Status']==1]"
   ]
  },
  {
   "cell_type": "code",
   "execution_count": 376,
   "metadata": {},
   "outputs": [
    {
     "data": {
      "text/html": [
       "<div>\n",
       "<style scoped>\n",
       "    .dataframe tbody tr th:only-of-type {\n",
       "        vertical-align: middle;\n",
       "    }\n",
       "\n",
       "    .dataframe tbody tr th {\n",
       "        vertical-align: top;\n",
       "    }\n",
       "\n",
       "    .dataframe thead th {\n",
       "        text-align: right;\n",
       "    }\n",
       "</style>\n",
       "<table border=\"1\" class=\"dataframe\">\n",
       "  <thead>\n",
       "    <tr style=\"text-align: right;\">\n",
       "      <th></th>\n",
       "      <th>Client_Category</th>\n",
       "      <th>Solution_Type</th>\n",
       "      <th>Sector</th>\n",
       "      <th>Location</th>\n",
       "      <th>Deal_Cost</th>\n",
       "      <th>Deal_Status</th>\n",
       "      <th>VP+Manager</th>\n",
       "    </tr>\n",
       "  </thead>\n",
       "  <tbody>\n",
       "    <tr>\n",
       "      <th>0</th>\n",
       "      <td>Telecom</td>\n",
       "      <td>Solution 7</td>\n",
       "      <td>Sector 24</td>\n",
       "      <td>L5</td>\n",
       "      <td>150000.00</td>\n",
       "      <td>1</td>\n",
       "      <td>Ekta Zutshi Gopa Trilochana</td>\n",
       "    </tr>\n",
       "    <tr>\n",
       "      <th>1</th>\n",
       "      <td>Telecom</td>\n",
       "      <td>Solution 7</td>\n",
       "      <td>Sector 24</td>\n",
       "      <td>L5</td>\n",
       "      <td>744705.88</td>\n",
       "      <td>1</td>\n",
       "      <td>Ekta Zutshi Gopa Trilochana</td>\n",
       "    </tr>\n",
       "    <tr>\n",
       "      <th>8</th>\n",
       "      <td>Consumer Good</td>\n",
       "      <td>Solution 42</td>\n",
       "      <td>Sector 12</td>\n",
       "      <td>L10</td>\n",
       "      <td>1032352.94</td>\n",
       "      <td>1</td>\n",
       "      <td>Lilli Storrs Md. Daud</td>\n",
       "    </tr>\n",
       "    <tr>\n",
       "      <th>10</th>\n",
       "      <td>International Bank</td>\n",
       "      <td>Solution 6</td>\n",
       "      <td>Sector 2</td>\n",
       "      <td>L10</td>\n",
       "      <td>316176.47</td>\n",
       "      <td>1</td>\n",
       "      <td>Long Bergstrom Luv Malhotra</td>\n",
       "    </tr>\n",
       "    <tr>\n",
       "      <th>11</th>\n",
       "      <td>Domestic Public Bank</td>\n",
       "      <td>Solution 59</td>\n",
       "      <td>Sector 2</td>\n",
       "      <td>L11</td>\n",
       "      <td>929411.77</td>\n",
       "      <td>1</td>\n",
       "      <td>Mervin Harwood Lino Batterton</td>\n",
       "    </tr>\n",
       "  </tbody>\n",
       "</table>\n",
       "</div>"
      ],
      "text/plain": [
       "         Client_Category Solution_Type     Sector Location   Deal_Cost  \\\n",
       "0                Telecom    Solution 7  Sector 24       L5   150000.00   \n",
       "1                Telecom    Solution 7  Sector 24       L5   744705.88   \n",
       "8          Consumer Good   Solution 42  Sector 12      L10  1032352.94   \n",
       "10    International Bank    Solution 6   Sector 2      L10   316176.47   \n",
       "11  Domestic Public Bank   Solution 59   Sector 2      L11   929411.77   \n",
       "\n",
       "    Deal_Status                     VP+Manager  \n",
       "0             1    Ekta Zutshi Gopa Trilochana  \n",
       "1             1    Ekta Zutshi Gopa Trilochana  \n",
       "8             1          Lilli Storrs Md. Daud  \n",
       "10            1    Long Bergstrom Luv Malhotra  \n",
       "11            1  Mervin Harwood Lino Batterton  "
      ]
     },
     "execution_count": 376,
     "metadata": {},
     "output_type": "execute_result"
    }
   ],
   "source": [
    "won_data.head()"
   ]
  },
  {
   "cell_type": "code",
   "execution_count": 377,
   "metadata": {},
   "outputs": [],
   "source": [
    "#Finding number of wion deals for each VP+Manager pair\n",
    "won_win=pd.DataFrame({'VP+Manager':won_data['VP+Manager'].value_counts().index, 'won_deals':won_data['VP+Manager'].value_counts().values})"
   ]
  },
  {
   "cell_type": "code",
   "execution_count": 378,
   "metadata": {},
   "outputs": [
    {
     "data": {
      "text/html": [
       "<div>\n",
       "<style scoped>\n",
       "    .dataframe tbody tr th:only-of-type {\n",
       "        vertical-align: middle;\n",
       "    }\n",
       "\n",
       "    .dataframe tbody tr th {\n",
       "        vertical-align: top;\n",
       "    }\n",
       "\n",
       "    .dataframe thead th {\n",
       "        text-align: right;\n",
       "    }\n",
       "</style>\n",
       "<table border=\"1\" class=\"dataframe\">\n",
       "  <thead>\n",
       "    <tr style=\"text-align: right;\">\n",
       "      <th></th>\n",
       "      <th>VP+Manager</th>\n",
       "      <th>won_deals</th>\n",
       "    </tr>\n",
       "  </thead>\n",
       "  <tbody>\n",
       "    <tr>\n",
       "      <th>0</th>\n",
       "      <td>Rahul Bajpai Rudraksh Sharma</td>\n",
       "      <td>71</td>\n",
       "    </tr>\n",
       "    <tr>\n",
       "      <th>1</th>\n",
       "      <td>Long Bergstrom Russell Dahlen</td>\n",
       "      <td>64</td>\n",
       "    </tr>\n",
       "    <tr>\n",
       "      <th>2</th>\n",
       "      <td>neeraj kumar Vinay Kumar</td>\n",
       "      <td>46</td>\n",
       "    </tr>\n",
       "    <tr>\n",
       "      <th>3</th>\n",
       "      <td>neeraj kumar Molly Eakes</td>\n",
       "      <td>39</td>\n",
       "    </tr>\n",
       "    <tr>\n",
       "      <th>4</th>\n",
       "      <td>Sargar Deep Rao Manpreet Singh</td>\n",
       "      <td>38</td>\n",
       "    </tr>\n",
       "    <tr>\n",
       "      <th>...</th>\n",
       "      <td>...</td>\n",
       "      <td>...</td>\n",
       "    </tr>\n",
       "    <tr>\n",
       "      <th>630</th>\n",
       "      <td>Ankita Aggarwal Vincenzo Mushrush</td>\n",
       "      <td>1</td>\n",
       "    </tr>\n",
       "    <tr>\n",
       "      <th>631</th>\n",
       "      <td>Long Bergstrom Ganesh Malwar</td>\n",
       "      <td>1</td>\n",
       "    </tr>\n",
       "    <tr>\n",
       "      <th>632</th>\n",
       "      <td>Rudraksh Sharma sunder paal</td>\n",
       "      <td>1</td>\n",
       "    </tr>\n",
       "    <tr>\n",
       "      <th>633</th>\n",
       "      <td>neeraj kumar Abhinav Warrier</td>\n",
       "      <td>1</td>\n",
       "    </tr>\n",
       "    <tr>\n",
       "      <th>634</th>\n",
       "      <td>Jitendra Choudhary Akshay Gosh</td>\n",
       "      <td>1</td>\n",
       "    </tr>\n",
       "  </tbody>\n",
       "</table>\n",
       "<p>635 rows × 2 columns</p>\n",
       "</div>"
      ],
      "text/plain": [
       "                            VP+Manager  won_deals\n",
       "0         Rahul Bajpai Rudraksh Sharma         71\n",
       "1        Long Bergstrom Russell Dahlen         64\n",
       "2             neeraj kumar Vinay Kumar         46\n",
       "3             neeraj kumar Molly Eakes         39\n",
       "4       Sargar Deep Rao Manpreet Singh         38\n",
       "..                                 ...        ...\n",
       "630  Ankita Aggarwal Vincenzo Mushrush          1\n",
       "631       Long Bergstrom Ganesh Malwar          1\n",
       "632        Rudraksh Sharma sunder paal          1\n",
       "633       neeraj kumar Abhinav Warrier          1\n",
       "634     Jitendra Choudhary Akshay Gosh          1\n",
       "\n",
       "[635 rows x 2 columns]"
      ]
     },
     "execution_count": 378,
     "metadata": {},
     "output_type": "execute_result"
    }
   ],
   "source": [
    "won_win"
   ]
  },
  {
   "cell_type": "code",
   "execution_count": 379,
   "metadata": {},
   "outputs": [],
   "source": [
    "#Adding the Won Details to the New Dataframe\n",
    "new_df['won_deals']=np.NaN\n",
    "i=0\n",
    "j=0"
   ]
  },
  {
   "cell_type": "code",
   "execution_count": 380,
   "metadata": {},
   "outputs": [],
   "source": [
    "for i in range(won_win.shape[0]):\n",
    "    for j in range(new_df.shape[0]):\n",
    "        if won_win['VP+Manager'].loc[i]==new_df['VP+Manager'].loc[j]:\n",
    "            new_df['won_deals'].loc[j]=won_win['won_deals'].loc[i]"
   ]
  },
  {
   "cell_type": "code",
   "execution_count": 381,
   "metadata": {},
   "outputs": [],
   "source": [
    "new_df['won_deals']=new_df['won_deals'].replace(np.NaN,0)"
   ]
  },
  {
   "cell_type": "code",
   "execution_count": 382,
   "metadata": {},
   "outputs": [],
   "source": [
    "new_df['%Win']=np.NaN\n",
    "k=0"
   ]
  },
  {
   "cell_type": "code",
   "execution_count": 383,
   "metadata": {},
   "outputs": [],
   "source": [
    "#calculating Win % for Each Pair\n",
    "for k in range(new_df.shape[0]):\n",
    "    new_df['%Win'].loc[k]=((new_df['won_deals'].loc[k]/new_df['total_deals'].loc[k])*100)"
   ]
  },
  {
   "cell_type": "code",
   "execution_count": 391,
   "metadata": {},
   "outputs": [
    {
     "data": {
      "text/html": [
       "<div>\n",
       "<style scoped>\n",
       "    .dataframe tbody tr th:only-of-type {\n",
       "        vertical-align: middle;\n",
       "    }\n",
       "\n",
       "    .dataframe tbody tr th {\n",
       "        vertical-align: top;\n",
       "    }\n",
       "\n",
       "    .dataframe thead th {\n",
       "        text-align: right;\n",
       "    }\n",
       "</style>\n",
       "<table border=\"1\" class=\"dataframe\">\n",
       "  <thead>\n",
       "    <tr style=\"text-align: right;\">\n",
       "      <th></th>\n",
       "      <th>VP+Manager</th>\n",
       "      <th>total_deals</th>\n",
       "      <th>won_deals</th>\n",
       "      <th>%Win</th>\n",
       "      <th>Support</th>\n",
       "      <th>Efficiency</th>\n",
       "    </tr>\n",
       "  </thead>\n",
       "  <tbody>\n",
       "    <tr>\n",
       "      <th>8</th>\n",
       "      <td>Long Bergstrom Russell Dahlen</td>\n",
       "      <td>92</td>\n",
       "      <td>64.0</td>\n",
       "      <td>69.565217</td>\n",
       "      <td>0.021369</td>\n",
       "      <td>1.486536</td>\n",
       "    </tr>\n",
       "    <tr>\n",
       "      <th>16</th>\n",
       "      <td>neeraj kumar Vinay Kumar</td>\n",
       "      <td>68</td>\n",
       "      <td>46.0</td>\n",
       "      <td>67.647059</td>\n",
       "      <td>0.015359</td>\n",
       "      <td>1.038987</td>\n",
       "    </tr>\n",
       "    <tr>\n",
       "      <th>47</th>\n",
       "      <td>Ekta Zutshi neeraj kumar</td>\n",
       "      <td>40</td>\n",
       "      <td>34.0</td>\n",
       "      <td>85.000000</td>\n",
       "      <td>0.011352</td>\n",
       "      <td>0.964942</td>\n",
       "    </tr>\n",
       "    <tr>\n",
       "      <th>0</th>\n",
       "      <td>Rahul Bajpai Rudraksh Sharma</td>\n",
       "      <td>197</td>\n",
       "      <td>71.0</td>\n",
       "      <td>36.040609</td>\n",
       "      <td>0.023706</td>\n",
       "      <td>0.854385</td>\n",
       "    </tr>\n",
       "    <tr>\n",
       "      <th>24</th>\n",
       "      <td>Ekta Zutshi Jean Sappington</td>\n",
       "      <td>57</td>\n",
       "      <td>35.0</td>\n",
       "      <td>61.403509</td>\n",
       "      <td>0.011686</td>\n",
       "      <td>0.717570</td>\n",
       "    </tr>\n",
       "    <tr>\n",
       "      <th>...</th>\n",
       "      <td>...</td>\n",
       "      <td>...</td>\n",
       "      <td>...</td>\n",
       "      <td>...</td>\n",
       "      <td>...</td>\n",
       "      <td>...</td>\n",
       "    </tr>\n",
       "    <tr>\n",
       "      <th>627</th>\n",
       "      <td>som dutt Marcella Mo</td>\n",
       "      <td>2</td>\n",
       "      <td>0.0</td>\n",
       "      <td>0.000000</td>\n",
       "      <td>0.000000</td>\n",
       "      <td>0.000000</td>\n",
       "    </tr>\n",
       "    <tr>\n",
       "      <th>626</th>\n",
       "      <td>Rosanna Maynez rahul kumar</td>\n",
       "      <td>2</td>\n",
       "      <td>0.0</td>\n",
       "      <td>0.000000</td>\n",
       "      <td>0.000000</td>\n",
       "      <td>0.000000</td>\n",
       "    </tr>\n",
       "    <tr>\n",
       "      <th>375</th>\n",
       "      <td>Rosanna Maynez Devendra Vishvakarma</td>\n",
       "      <td>5</td>\n",
       "      <td>0.0</td>\n",
       "      <td>0.000000</td>\n",
       "      <td>0.000000</td>\n",
       "      <td>0.000000</td>\n",
       "    </tr>\n",
       "    <tr>\n",
       "      <th>624</th>\n",
       "      <td>Son Mcconnaughy Danny Bolton</td>\n",
       "      <td>2</td>\n",
       "      <td>0.0</td>\n",
       "      <td>0.000000</td>\n",
       "      <td>0.000000</td>\n",
       "      <td>0.000000</td>\n",
       "    </tr>\n",
       "    <tr>\n",
       "      <th>448</th>\n",
       "      <td>Ankita Aggarwal Ankita Aggarwal</td>\n",
       "      <td>4</td>\n",
       "      <td>0.0</td>\n",
       "      <td>0.000000</td>\n",
       "      <td>0.000000</td>\n",
       "      <td>0.000000</td>\n",
       "    </tr>\n",
       "  </tbody>\n",
       "</table>\n",
       "<p>897 rows × 6 columns</p>\n",
       "</div>"
      ],
      "text/plain": [
       "                              VP+Manager  total_deals  won_deals       %Win  \\\n",
       "8          Long Bergstrom Russell Dahlen           92       64.0  69.565217   \n",
       "16              neeraj kumar Vinay Kumar           68       46.0  67.647059   \n",
       "47              Ekta Zutshi neeraj kumar           40       34.0  85.000000   \n",
       "0           Rahul Bajpai Rudraksh Sharma          197       71.0  36.040609   \n",
       "24           Ekta Zutshi Jean Sappington           57       35.0  61.403509   \n",
       "..                                   ...          ...        ...        ...   \n",
       "627                 som dutt Marcella Mo            2        0.0   0.000000   \n",
       "626           Rosanna Maynez rahul kumar            2        0.0   0.000000   \n",
       "375  Rosanna Maynez Devendra Vishvakarma            5        0.0   0.000000   \n",
       "624         Son Mcconnaughy Danny Bolton            2        0.0   0.000000   \n",
       "448      Ankita Aggarwal Ankita Aggarwal            4        0.0   0.000000   \n",
       "\n",
       "      Support  Efficiency  \n",
       "8    0.021369    1.486536  \n",
       "16   0.015359    1.038987  \n",
       "47   0.011352    0.964942  \n",
       "0    0.023706    0.854385  \n",
       "24   0.011686    0.717570  \n",
       "..        ...         ...  \n",
       "627  0.000000    0.000000  \n",
       "626  0.000000    0.000000  \n",
       "375  0.000000    0.000000  \n",
       "624  0.000000    0.000000  \n",
       "448  0.000000    0.000000  \n",
       "\n",
       "[897 rows x 6 columns]"
      ]
     },
     "execution_count": 391,
     "metadata": {},
     "output_type": "execute_result"
    }
   ],
   "source": [
    "new_df"
   ]
  },
  {
   "cell_type": "code",
   "execution_count": 384,
   "metadata": {},
   "outputs": [],
   "source": [
    "#Calculating Support as - (Won Deals of Pair)/(Total Won Deals)\n",
    "new_df['Support'] = (new_df['won_deals'])/(new_df['won_deals'].sum())"
   ]
  },
  {
   "cell_type": "code",
   "execution_count": 385,
   "metadata": {},
   "outputs": [
    {
     "data": {
      "text/plain": [
       "2995.0"
      ]
     },
     "execution_count": 385,
     "metadata": {},
     "output_type": "execute_result"
    }
   ],
   "source": [
    "new_df['won_deals'].sum()"
   ]
  },
  {
   "cell_type": "code",
   "execution_count": 386,
   "metadata": {
    "scrolled": true
   },
   "outputs": [
    {
     "data": {
      "text/html": [
       "<div>\n",
       "<style scoped>\n",
       "    .dataframe tbody tr th:only-of-type {\n",
       "        vertical-align: middle;\n",
       "    }\n",
       "\n",
       "    .dataframe tbody tr th {\n",
       "        vertical-align: top;\n",
       "    }\n",
       "\n",
       "    .dataframe thead th {\n",
       "        text-align: right;\n",
       "    }\n",
       "</style>\n",
       "<table border=\"1\" class=\"dataframe\">\n",
       "  <thead>\n",
       "    <tr style=\"text-align: right;\">\n",
       "      <th></th>\n",
       "      <th>VP+Manager</th>\n",
       "      <th>total_deals</th>\n",
       "      <th>won_deals</th>\n",
       "      <th>%Win</th>\n",
       "      <th>Support</th>\n",
       "    </tr>\n",
       "  </thead>\n",
       "  <tbody>\n",
       "    <tr>\n",
       "      <th>0</th>\n",
       "      <td>Rahul Bajpai Rudraksh Sharma</td>\n",
       "      <td>197</td>\n",
       "      <td>71.0</td>\n",
       "      <td>36.040609</td>\n",
       "      <td>0.023706</td>\n",
       "    </tr>\n",
       "    <tr>\n",
       "      <th>1</th>\n",
       "      <td>Long Bergstrom Jewell Tunstall</td>\n",
       "      <td>118</td>\n",
       "      <td>38.0</td>\n",
       "      <td>32.203390</td>\n",
       "      <td>0.012688</td>\n",
       "    </tr>\n",
       "    <tr>\n",
       "      <th>2</th>\n",
       "      <td>Sargar Deep Rao Manpreet Singh</td>\n",
       "      <td>114</td>\n",
       "      <td>38.0</td>\n",
       "      <td>33.333333</td>\n",
       "      <td>0.012688</td>\n",
       "    </tr>\n",
       "    <tr>\n",
       "      <th>3</th>\n",
       "      <td>Ankita Aggarwal Desmond Krout</td>\n",
       "      <td>114</td>\n",
       "      <td>24.0</td>\n",
       "      <td>21.052632</td>\n",
       "      <td>0.008013</td>\n",
       "    </tr>\n",
       "    <tr>\n",
       "      <th>4</th>\n",
       "      <td>Ankita Aggarwal Manish Saundriyal</td>\n",
       "      <td>108</td>\n",
       "      <td>18.0</td>\n",
       "      <td>16.666667</td>\n",
       "      <td>0.006010</td>\n",
       "    </tr>\n",
       "    <tr>\n",
       "      <th>...</th>\n",
       "      <td>...</td>\n",
       "      <td>...</td>\n",
       "      <td>...</td>\n",
       "      <td>...</td>\n",
       "      <td>...</td>\n",
       "    </tr>\n",
       "    <tr>\n",
       "      <th>892</th>\n",
       "      <td>Jewell Tunstall pooran chand</td>\n",
       "      <td>1</td>\n",
       "      <td>1.0</td>\n",
       "      <td>100.000000</td>\n",
       "      <td>0.000334</td>\n",
       "    </tr>\n",
       "    <tr>\n",
       "      <th>893</th>\n",
       "      <td>Gopa Trilochana Anmol Mehre</td>\n",
       "      <td>1</td>\n",
       "      <td>1.0</td>\n",
       "      <td>100.000000</td>\n",
       "      <td>0.000334</td>\n",
       "    </tr>\n",
       "    <tr>\n",
       "      <th>894</th>\n",
       "      <td>Varsha Arora Rahul Singh</td>\n",
       "      <td>1</td>\n",
       "      <td>1.0</td>\n",
       "      <td>100.000000</td>\n",
       "      <td>0.000334</td>\n",
       "    </tr>\n",
       "    <tr>\n",
       "      <th>895</th>\n",
       "      <td>Man Suddeth kailash kumar</td>\n",
       "      <td>1</td>\n",
       "      <td>1.0</td>\n",
       "      <td>100.000000</td>\n",
       "      <td>0.000334</td>\n",
       "    </tr>\n",
       "    <tr>\n",
       "      <th>896</th>\n",
       "      <td>Long Bergstrom Marcelo Riles</td>\n",
       "      <td>1</td>\n",
       "      <td>1.0</td>\n",
       "      <td>100.000000</td>\n",
       "      <td>0.000334</td>\n",
       "    </tr>\n",
       "  </tbody>\n",
       "</table>\n",
       "<p>897 rows × 5 columns</p>\n",
       "</div>"
      ],
      "text/plain": [
       "                            VP+Manager  total_deals  won_deals        %Win  \\\n",
       "0         Rahul Bajpai Rudraksh Sharma          197       71.0   36.040609   \n",
       "1       Long Bergstrom Jewell Tunstall          118       38.0   32.203390   \n",
       "2       Sargar Deep Rao Manpreet Singh          114       38.0   33.333333   \n",
       "3        Ankita Aggarwal Desmond Krout          114       24.0   21.052632   \n",
       "4    Ankita Aggarwal Manish Saundriyal          108       18.0   16.666667   \n",
       "..                                 ...          ...        ...         ...   \n",
       "892       Jewell Tunstall pooran chand            1        1.0  100.000000   \n",
       "893        Gopa Trilochana Anmol Mehre            1        1.0  100.000000   \n",
       "894           Varsha Arora Rahul Singh            1        1.0  100.000000   \n",
       "895          Man Suddeth kailash kumar            1        1.0  100.000000   \n",
       "896       Long Bergstrom Marcelo Riles            1        1.0  100.000000   \n",
       "\n",
       "      Support  \n",
       "0    0.023706  \n",
       "1    0.012688  \n",
       "2    0.012688  \n",
       "3    0.008013  \n",
       "4    0.006010  \n",
       "..        ...  \n",
       "892  0.000334  \n",
       "893  0.000334  \n",
       "894  0.000334  \n",
       "895  0.000334  \n",
       "896  0.000334  \n",
       "\n",
       "[897 rows x 5 columns]"
      ]
     },
     "execution_count": 386,
     "metadata": {},
     "output_type": "execute_result"
    }
   ],
   "source": [
    "new_df"
   ]
  },
  {
   "cell_type": "code",
   "execution_count": 387,
   "metadata": {},
   "outputs": [],
   "source": [
    "#Creating a New variable Efficiency as win%*Support, to remove bias\n",
    "new_df['Efficiency'] = (new_df['%Win'])*(new_df['Support'])"
   ]
  },
  {
   "cell_type": "code",
   "execution_count": 388,
   "metadata": {},
   "outputs": [
    {
     "data": {
      "text/html": [
       "<div>\n",
       "<style scoped>\n",
       "    .dataframe tbody tr th:only-of-type {\n",
       "        vertical-align: middle;\n",
       "    }\n",
       "\n",
       "    .dataframe tbody tr th {\n",
       "        vertical-align: top;\n",
       "    }\n",
       "\n",
       "    .dataframe thead th {\n",
       "        text-align: right;\n",
       "    }\n",
       "</style>\n",
       "<table border=\"1\" class=\"dataframe\">\n",
       "  <thead>\n",
       "    <tr style=\"text-align: right;\">\n",
       "      <th></th>\n",
       "      <th>VP+Manager</th>\n",
       "      <th>total_deals</th>\n",
       "      <th>won_deals</th>\n",
       "      <th>%Win</th>\n",
       "      <th>Support</th>\n",
       "      <th>Efficiency</th>\n",
       "    </tr>\n",
       "  </thead>\n",
       "  <tbody>\n",
       "    <tr>\n",
       "      <th>0</th>\n",
       "      <td>Rahul Bajpai Rudraksh Sharma</td>\n",
       "      <td>197</td>\n",
       "      <td>71.0</td>\n",
       "      <td>36.040609</td>\n",
       "      <td>0.023706</td>\n",
       "      <td>0.854385</td>\n",
       "    </tr>\n",
       "    <tr>\n",
       "      <th>1</th>\n",
       "      <td>Long Bergstrom Jewell Tunstall</td>\n",
       "      <td>118</td>\n",
       "      <td>38.0</td>\n",
       "      <td>32.203390</td>\n",
       "      <td>0.012688</td>\n",
       "      <td>0.408591</td>\n",
       "    </tr>\n",
       "    <tr>\n",
       "      <th>2</th>\n",
       "      <td>Sargar Deep Rao Manpreet Singh</td>\n",
       "      <td>114</td>\n",
       "      <td>38.0</td>\n",
       "      <td>33.333333</td>\n",
       "      <td>0.012688</td>\n",
       "      <td>0.422927</td>\n",
       "    </tr>\n",
       "    <tr>\n",
       "      <th>3</th>\n",
       "      <td>Ankita Aggarwal Desmond Krout</td>\n",
       "      <td>114</td>\n",
       "      <td>24.0</td>\n",
       "      <td>21.052632</td>\n",
       "      <td>0.008013</td>\n",
       "      <td>0.168702</td>\n",
       "    </tr>\n",
       "    <tr>\n",
       "      <th>4</th>\n",
       "      <td>Ankita Aggarwal Manish Saundriyal</td>\n",
       "      <td>108</td>\n",
       "      <td>18.0</td>\n",
       "      <td>16.666667</td>\n",
       "      <td>0.006010</td>\n",
       "      <td>0.100167</td>\n",
       "    </tr>\n",
       "    <tr>\n",
       "      <th>...</th>\n",
       "      <td>...</td>\n",
       "      <td>...</td>\n",
       "      <td>...</td>\n",
       "      <td>...</td>\n",
       "      <td>...</td>\n",
       "      <td>...</td>\n",
       "    </tr>\n",
       "    <tr>\n",
       "      <th>892</th>\n",
       "      <td>Jewell Tunstall pooran chand</td>\n",
       "      <td>1</td>\n",
       "      <td>1.0</td>\n",
       "      <td>100.000000</td>\n",
       "      <td>0.000334</td>\n",
       "      <td>0.033389</td>\n",
       "    </tr>\n",
       "    <tr>\n",
       "      <th>893</th>\n",
       "      <td>Gopa Trilochana Anmol Mehre</td>\n",
       "      <td>1</td>\n",
       "      <td>1.0</td>\n",
       "      <td>100.000000</td>\n",
       "      <td>0.000334</td>\n",
       "      <td>0.033389</td>\n",
       "    </tr>\n",
       "    <tr>\n",
       "      <th>894</th>\n",
       "      <td>Varsha Arora Rahul Singh</td>\n",
       "      <td>1</td>\n",
       "      <td>1.0</td>\n",
       "      <td>100.000000</td>\n",
       "      <td>0.000334</td>\n",
       "      <td>0.033389</td>\n",
       "    </tr>\n",
       "    <tr>\n",
       "      <th>895</th>\n",
       "      <td>Man Suddeth kailash kumar</td>\n",
       "      <td>1</td>\n",
       "      <td>1.0</td>\n",
       "      <td>100.000000</td>\n",
       "      <td>0.000334</td>\n",
       "      <td>0.033389</td>\n",
       "    </tr>\n",
       "    <tr>\n",
       "      <th>896</th>\n",
       "      <td>Long Bergstrom Marcelo Riles</td>\n",
       "      <td>1</td>\n",
       "      <td>1.0</td>\n",
       "      <td>100.000000</td>\n",
       "      <td>0.000334</td>\n",
       "      <td>0.033389</td>\n",
       "    </tr>\n",
       "  </tbody>\n",
       "</table>\n",
       "<p>897 rows × 6 columns</p>\n",
       "</div>"
      ],
      "text/plain": [
       "                            VP+Manager  total_deals  won_deals        %Win  \\\n",
       "0         Rahul Bajpai Rudraksh Sharma          197       71.0   36.040609   \n",
       "1       Long Bergstrom Jewell Tunstall          118       38.0   32.203390   \n",
       "2       Sargar Deep Rao Manpreet Singh          114       38.0   33.333333   \n",
       "3        Ankita Aggarwal Desmond Krout          114       24.0   21.052632   \n",
       "4    Ankita Aggarwal Manish Saundriyal          108       18.0   16.666667   \n",
       "..                                 ...          ...        ...         ...   \n",
       "892       Jewell Tunstall pooran chand            1        1.0  100.000000   \n",
       "893        Gopa Trilochana Anmol Mehre            1        1.0  100.000000   \n",
       "894           Varsha Arora Rahul Singh            1        1.0  100.000000   \n",
       "895          Man Suddeth kailash kumar            1        1.0  100.000000   \n",
       "896       Long Bergstrom Marcelo Riles            1        1.0  100.000000   \n",
       "\n",
       "      Support  Efficiency  \n",
       "0    0.023706    0.854385  \n",
       "1    0.012688    0.408591  \n",
       "2    0.012688    0.422927  \n",
       "3    0.008013    0.168702  \n",
       "4    0.006010    0.100167  \n",
       "..        ...         ...  \n",
       "892  0.000334    0.033389  \n",
       "893  0.000334    0.033389  \n",
       "894  0.000334    0.033389  \n",
       "895  0.000334    0.033389  \n",
       "896  0.000334    0.033389  \n",
       "\n",
       "[897 rows x 6 columns]"
      ]
     },
     "execution_count": 388,
     "metadata": {},
     "output_type": "execute_result"
    }
   ],
   "source": [
    "new_df"
   ]
  },
  {
   "cell_type": "code",
   "execution_count": 389,
   "metadata": {},
   "outputs": [],
   "source": [
    "new_df = new_df.sort_values('Efficiency',ascending=False)"
   ]
  },
  {
   "cell_type": "code",
   "execution_count": 126,
   "metadata": {},
   "outputs": [],
   "source": [
    "#Printing the Best Recommendation of VP Head + Managers\n",
    "#new_df.head(5)"
   ]
  },
  {
   "cell_type": "code",
   "execution_count": null,
   "metadata": {},
   "outputs": [],
   "source": []
  },
  {
   "cell_type": "code",
   "execution_count": null,
   "metadata": {},
   "outputs": [],
   "source": []
  },
  {
   "cell_type": "code",
   "execution_count": null,
   "metadata": {},
   "outputs": [],
   "source": []
  },
  {
   "cell_type": "markdown",
   "metadata": {},
   "source": [
    "# Creating pickle file for random_forest model "
   ]
  },
  {
   "cell_type": "code",
   "execution_count": 144,
   "metadata": {},
   "outputs": [],
   "source": [
    "### Create a Pickle file using serialization \n",
    "import pickle\n",
    "pickle_out = open(\"classifier.pkl\",\"wb\")\n",
    "pickle.dump(random_forest, pickle_out)\n",
    "pickle_out.close()"
   ]
  },
  {
   "cell_type": "code",
   "execution_count": 133,
   "metadata": {},
   "outputs": [
    {
     "data": {
      "text/html": [
       "<div>\n",
       "<style scoped>\n",
       "    .dataframe tbody tr th:only-of-type {\n",
       "        vertical-align: middle;\n",
       "    }\n",
       "\n",
       "    .dataframe tbody tr th {\n",
       "        vertical-align: top;\n",
       "    }\n",
       "\n",
       "    .dataframe thead th {\n",
       "        text-align: right;\n",
       "    }\n",
       "</style>\n",
       "<table border=\"1\" class=\"dataframe\">\n",
       "  <thead>\n",
       "    <tr style=\"text-align: right;\">\n",
       "      <th></th>\n",
       "      <th>Client_Category</th>\n",
       "      <th>Solution_Type</th>\n",
       "      <th>Sector</th>\n",
       "      <th>Location</th>\n",
       "      <th>Deal_Cost</th>\n",
       "      <th>VP+Manager</th>\n",
       "    </tr>\n",
       "  </thead>\n",
       "  <tbody>\n",
       "    <tr>\n",
       "      <th>6680</th>\n",
       "      <td>23</td>\n",
       "      <td>42</td>\n",
       "      <td>17</td>\n",
       "      <td>3</td>\n",
       "      <td>141176.47</td>\n",
       "      <td>314</td>\n",
       "    </tr>\n",
       "    <tr>\n",
       "      <th>9365</th>\n",
       "      <td>23</td>\n",
       "      <td>44</td>\n",
       "      <td>18</td>\n",
       "      <td>3</td>\n",
       "      <td>1470.59</td>\n",
       "      <td>62</td>\n",
       "    </tr>\n",
       "    <tr>\n",
       "      <th>1060</th>\n",
       "      <td>13</td>\n",
       "      <td>28</td>\n",
       "      <td>13</td>\n",
       "      <td>2</td>\n",
       "      <td>205882.35</td>\n",
       "      <td>546</td>\n",
       "    </tr>\n",
       "    <tr>\n",
       "      <th>799</th>\n",
       "      <td>25</td>\n",
       "      <td>28</td>\n",
       "      <td>18</td>\n",
       "      <td>6</td>\n",
       "      <td>441176.47</td>\n",
       "      <td>357</td>\n",
       "    </tr>\n",
       "    <tr>\n",
       "      <th>7188</th>\n",
       "      <td>25</td>\n",
       "      <td>46</td>\n",
       "      <td>14</td>\n",
       "      <td>12</td>\n",
       "      <td>735294.12</td>\n",
       "      <td>522</td>\n",
       "    </tr>\n",
       "  </tbody>\n",
       "</table>\n",
       "</div>"
      ],
      "text/plain": [
       "      Client_Category  Solution_Type  Sector  Location  Deal_Cost  VP+Manager\n",
       "6680               23             42      17         3  141176.47         314\n",
       "9365               23             44      18         3    1470.59          62\n",
       "1060               13             28      13         2  205882.35         546\n",
       "799                25             28      18         6  441176.47         357\n",
       "7188               25             46      14        12  735294.12         522"
      ]
     },
     "execution_count": 133,
     "metadata": {},
     "output_type": "execute_result"
    }
   ],
   "source": [
    "X_test.head()"
   ]
  },
  {
   "cell_type": "code",
   "execution_count": 145,
   "metadata": {},
   "outputs": [
    {
     "data": {
      "text/plain": [
       "array([0], dtype=int64)"
      ]
     },
     "execution_count": 145,
     "metadata": {},
     "output_type": "execute_result"
    }
   ],
   "source": [
    "random_forest.predict([[23,42,17,3,141176.47,314]])"
   ]
  },
  {
   "cell_type": "code",
   "execution_count": null,
   "metadata": {},
   "outputs": [],
   "source": [
    "Client_Category,Solution_Type,Location,Deal_Cost,VP+Manager"
   ]
  }
 ],
 "metadata": {
  "kernelspec": {
   "display_name": "Python 3",
   "language": "python",
   "name": "python3"
  },
  "language_info": {
   "codemirror_mode": {
    "name": "ipython",
    "version": 3
   },
   "file_extension": ".py",
   "mimetype": "text/x-python",
   "name": "python",
   "nbconvert_exporter": "python",
   "pygments_lexer": "ipython3",
   "version": "3.8.8"
  }
 },
 "nbformat": 4,
 "nbformat_minor": 4
}
